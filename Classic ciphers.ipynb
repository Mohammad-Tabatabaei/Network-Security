{
  "cells": [
    {
      "cell_type": "markdown",
      "metadata": {
        "id": "m9UKcsb17Kle"
      },
      "source": [
        "## The Shift Cipher"
      ]
    },
    {
      "cell_type": "markdown",
      "metadata": {
        "id": "rBQbCwHY7Klh"
      },
      "source": [
        "The shift cipher is one of the oldest encryption schemes also used by Caesar, who\n",
        "> wrote it in cipher, that is, by so changing the order of the letters of the alphabet, that not a word could be made out. If anyone wishes to decipher these, and get at their meaning, he must substitute the fourth letter of the alphabet, namely D, for A, and so with the others. (Suetonius)"
      ]
    },
    {
      "cell_type": "markdown",
      "metadata": {
        "id": "0dGR54vF7Klk"
      },
      "source": [
        "Messages are strings of any size of uppercase letters.\n",
        "\n",
        "Let’s encode each letter as A=0,B=1, …,Z=25.\n",
        "\n",
        "The key is any integer $0 \\leq k \\leq 25$."
      ]
    },
    {
      "cell_type": "code",
      "execution_count": 1,
      "metadata": {
        "id": "UTra5vhg7Klm"
      },
      "outputs": [],
      "source": [
        "import math\n",
        "import collections\n",
        "import matplotlib.pyplot as plt\n",
        "from sympy.crypto.crypto import AZ\n",
        "from sympy.crypto.crypto import encipher_shift, decipher_shift\n",
        "from sympy.crypto.crypto import encipher_vigenere, decipher_vigenere"
      ]
    },
    {
      "cell_type": "code",
      "execution_count": 2,
      "metadata": {
        "id": "Rfq5mO3m7Klp",
        "outputId": "c1de4b55-f55d-4f45-8f6c-0703b9370f3a",
        "colab": {
          "base_uri": "https://localhost:8080/",
          "height": 35
        }
      },
      "outputs": [
        {
          "output_type": "execute_result",
          "data": {
            "text/plain": [
              "'GONAVYBEATARMY'"
            ],
            "application/vnd.google.colaboratory.intrinsic+json": {
              "type": "string"
            }
          },
          "metadata": {},
          "execution_count": 2
        }
      ],
      "source": [
        "# Let's define a ciphertext using the letters of the alphabet\n",
        "# remove all the stuff we will not be able to encode by AZ class\n",
        "\n",
        "m = AZ(\"Go Navy! Beat Army!\") # transform into string that use only the A to Z alphabet uppercase\n",
        "m"
      ]
    },
    {
      "cell_type": "code",
      "execution_count": 3,
      "metadata": {
        "id": "q3Q_82vu7Klr",
        "outputId": "3cdf64bc-faac-4dde-d476-54e9fcc5dd63",
        "colab": {
          "base_uri": "https://localhost:8080/",
          "height": 35
        }
      },
      "outputs": [
        {
          "output_type": "execute_result",
          "data": {
            "text/plain": [
              "'HPOBWZCFBUBSNZ'"
            ],
            "application/vnd.google.colaboratory.intrinsic+json": {
              "type": "string"
            }
          },
          "metadata": {},
          "execution_count": 3
        }
      ],
      "source": [
        "# encrypt with k = 1\n",
        "k = 1\n",
        "c = encipher_shift(m, k)\n",
        "c"
      ]
    },
    {
      "cell_type": "code",
      "execution_count": 4,
      "metadata": {
        "id": "BKYYQ__v7Klt",
        "outputId": "d753217c-5461-4ad3-e87e-2f5e55dda117",
        "colab": {
          "base_uri": "https://localhost:8080/",
          "height": 35
        }
      },
      "outputs": [
        {
          "output_type": "execute_result",
          "data": {
            "text/plain": [
              "'GONAVYBEATARMY'"
            ],
            "application/vnd.google.colaboratory.intrinsic+json": {
              "type": "string"
            }
          },
          "metadata": {},
          "execution_count": 4
        }
      ],
      "source": [
        "# now decrypt\n",
        "decipher_shift(c,k)"
      ]
    },
    {
      "cell_type": "code",
      "execution_count": 5,
      "metadata": {
        "id": "s5Y-Vl8C7Klv",
        "outputId": "5f43c9b5-581a-4ecf-db3a-765ed383cf3d",
        "colab": {
          "base_uri": "https://localhost:8080/"
        }
      },
      "outputs": [
        {
          "output_type": "stream",
          "name": "stdout",
          "text": [
            "0 LRZZOACZZQTDZYPESLEXLVPDFDHTDPC\n",
            "1 KQYYNZBYYPSCYXODRKDWKUOCECGSCOB\n",
            "2 JPXXMYAXXORBXWNCQJCVJTNBDBFRBNA\n",
            "3 IOWWLXZWWNQAWVMBPIBUISMACAEQAMZ\n",
            "4 HNVVKWYVVMPZVULAOHATHRLZBZDPZLY\n",
            "5 GMUUJVXUULOYUTKZNGZSGQKYAYCOYKX\n",
            "6 FLTTIUWTTKNXTSJYMFYRFPJXZXBNXJW\n",
            "7 EKSSHTVSSJMWSRIXLEXQEOIWYWAMWIV\n",
            "8 DJRRGSURRILVRQHWKDWPDNHVXVZLVHU\n",
            "9 CIQQFRTQQHKUQPGVJCVOCMGUWUYKUGT\n",
            "10 BHPPEQSPPGJTPOFUIBUNBLFTVTXJTFS\n",
            "11 AGOODPROOFISONETHATMAKESUSWISER\n",
            "12 ZFNNCOQNNEHRNMDSGZSLZJDRTRVHRDQ\n",
            "13 YEMMBNPMMDGQMLCRFYRKYICQSQUGQCP\n",
            "14 XDLLAMOLLCFPLKBQEXQJXHBPRPTFPBO\n",
            "15 WCKKZLNKKBEOKJAPDWPIWGAOQOSEOAN\n",
            "16 VBJJYKMJJADNJIZOCVOHVFZNPNRDNZM\n",
            "17 UAIIXJLIIZCMIHYNBUNGUEYMOMQCMYL\n",
            "18 TZHHWIKHHYBLHGXMATMFTDXLNLPBLXK\n",
            "19 SYGGVHJGGXAKGFWLZSLESCWKMKOAKWJ\n",
            "20 RXFFUGIFFWZJFEVKYRKDRBVJLJNZJVI\n",
            "21 QWEETFHEEVYIEDUJXQJCQAUIKIMYIUH\n",
            "22 PVDDSEGDDUXHDCTIWPIBPZTHJHLXHTG\n",
            "23 OUCCRDFCCTWGCBSHVOHAOYSGIGKWGSF\n",
            "24 NTBBQCEBBSVFBARGUNGZNXRFHFJVFRE\n",
            "25 MSAAPBDAARUEAZQFTMFYMWQEGEIUEQD\n"
          ]
        }
      ],
      "source": [
        "# Now a bit more complicated\n",
        "# Let's find the decryption of a ciphertext\n",
        "c = AZ(\"LRZZOACZZQTDZYPESLEXLVPDFDHTDPC\")\n",
        "\n",
        "# We try all the keys\n",
        "for i in range(26):\n",
        "\t\tprint(i, decipher_shift(c, i))\n",
        "\n",
        "# the correct k is equal to 11"
      ]
    },
    {
      "cell_type": "code",
      "execution_count": 6,
      "metadata": {
        "id": "SyHipVhr7Klx",
        "outputId": "07047b29-15e0-4b3a-bddc-44e4a514c9cf",
        "colab": {
          "base_uri": "https://localhost:8080/",
          "height": 35
        }
      },
      "outputs": [
        {
          "output_type": "execute_result",
          "data": {
            "text/plain": [
              "'AGOODPROOFISONETHATMAKESUSWISER'"
            ],
            "application/vnd.google.colaboratory.intrinsic+json": {
              "type": "string"
            }
          },
          "metadata": {},
          "execution_count": 6
        }
      ],
      "source": [
        "# k = 11 makes sense\n",
        "k = 11\n",
        "decipher_shift(c, k)\n",
        "\n",
        "# key space is small enough to do exhaustive search and find the message that makes sense through them\n",
        "# the bottleneck checks the messages and find out which one makes sense"
      ]
    },
    {
      "cell_type": "code",
      "execution_count": 8,
      "metadata": {
        "id": "njTRcCsV7Kl2",
        "outputId": "1c0b5d79-10be-4e47-91a1-8d8b1f0ee422",
        "colab": {
          "base_uri": "https://localhost:8080/",
          "height": 430
        }
      },
      "outputs": [
        {
          "output_type": "display_data",
          "data": {
            "text/plain": [
              "<Figure size 640x480 with 1 Axes>"
            ],
            "image/png": "[encoded data removed]"
          },
          "metadata": {}
        }
      ],
      "source": [
        "# Can we make it automatic?\n",
        "# Let's use a longer text\n",
        "raven =  \"\"\"Once upon a midnight dreary, while I pondered, weak and weary,\n",
        "            Over many a quaint and curious volume of forgotten lore,\n",
        "            While I nodded, nearly napping, suddenly there came a tapping,\n",
        "            As of some one gently rapping, rapping at my chamber door.\n",
        "            Tis some visiter, I muttered, tapping at my chamber door --\n",
        "            Only this,and nothing more.\"\"\"\n",
        "m = AZ(raven)\n",
        "freq = collections.Counter(m)\n",
        "plt.bar(freq.keys(),freq.values());\n",
        "\n",
        "# in meaningful messages the letters are not equally likely, we dont have a uniform distribution"
      ]
    },
    {
      "cell_type": "markdown",
      "metadata": {
        "id": "rOFIIHaT7Kl4"
      },
      "source": [
        "# Entropy\n",
        "Given a letter $m$ taken from a **set of letter** $\\{m_1, \\dots, m_N\\}$ with probabilities $p(m_i)\\ 1\\leq i \\leq N$, the source entropy is\n",
        "\n",
        "$H(m) = -\\sum_{i=1}^N p_i \\log_2 p_i$\n",
        "\n",
        "Source entropy is a measure of how much a **source's messages** are uniformly distributed.\n",
        "\n",
        "**Entropy**: how random is a random variable, the value is maximum when the random variable is uniformly distributed"
      ]
    },
    {
      "cell_type": "code",
      "execution_count": 9,
      "metadata": {
        "id": "2WXGaQho7Kl6"
      },
      "outputs": [],
      "source": [
        "# Calculate entropy given the histogram\n",
        "def entropy(p):\n",
        "    # normalization constant (probability must sum to 1)\n",
        "    norm = sum(p)\n",
        "    # definition of entropy\n",
        "    return -sum([ pi/norm*math.log2(pi/norm) for pi in p ])"
      ]
    },
    {
      "cell_type": "code",
      "execution_count": 10,
      "metadata": {
        "id": "AyG-kWM17Kl7"
      },
      "outputs": [],
      "source": [
        "# Calculate and plot the frequencies of letters in a message\n",
        "def plot_frequencies(msg):\n",
        "    freq = collections.Counter(msg)\n",
        "    plt.bar(freq.keys(),freq.values())\n",
        "    plt.title(\"Entropy: {} bits\".format(entropy(freq.values())))\n",
        "    plt.show()"
      ]
    },
    {
      "cell_type": "code",
      "execution_count": 11,
      "metadata": {
        "id": "VO-FGWjA7Kl8",
        "outputId": "05e79a79-1dfc-4848-8f16-319e5871b8c0",
        "colab": {
          "base_uri": "https://localhost:8080/",
          "height": 452
        }
      },
      "outputs": [
        {
          "output_type": "display_data",
          "data": {
            "text/plain": [
              "<Figure size 640x480 with 1 Axes>"
            ],
            "image/png": "[encoded data removed]"
          },
          "metadata": {}
        }
      ],
      "source": [
        "# Show the letter frequencies in the plaintext\n",
        "# Letter E is the most common\n",
        "plot_frequencies(m)\n",
        "# our entropy is 4.14 bits of infromation. the maximum is uniform dist and is 4.6. so we are far from the uniform distrubution"
      ]
    },
    {
      "cell_type": "code",
      "execution_count": 12,
      "metadata": {
        "id": "ecQNTQvJ7Kl9",
        "outputId": "07dafb79-3227-4117-b635-9e31dc54d0d1",
        "colab": {
          "base_uri": "https://localhost:8080/",
          "height": 452
        }
      },
      "outputs": [
        {
          "output_type": "display_data",
          "data": {
            "text/plain": [
              "<Figure size 640x480 with 1 Axes>"
            ],
            "image/png": "[encoded data removed]"
          },
          "metadata": {}
        }
      ],
      "source": [
        "# Let's decrypt a longer message using frequency analysis\n",
        "ciphertext = \"\"\"VUJLBWVUHTPKUPNOAKYLHYFDOPSLPWVUK\n",
        "                LYLKDLHRHUKDLHYFVCLYTHUFHXBHPUAHU\n",
        "                KJBYPVBZCVSBTLVMMVYNVAALUSVYLDOPS\n",
        "                LPUVKKLKULHYSFUHWWPUNZBKKLUSFAOLY\n",
        "                LJHTLHAHWWPUNHZVMZVTLVULNLUASFYHW\n",
        "                WPUNYHWWPUNHATFJOHTILYKVVYAPZZVTL\n",
        "                CPZPALYPTBAALYLKAHWWPUNHATFJOHTIL\n",
        "                YKVVYVUSFAOPZHUKUVAOPUNTVY\"\"\"\n",
        "c = AZ(ciphertext)\n",
        "plot_frequencies(c)\n",
        "\n",
        "# shift ciphers are not able to hide the relative frequency of latters in plaintext and cioher text\n",
        "# we know the popular most frequent letters are UIEOA espessialy E, so we can do best guess by mapping the decryption key to shift most frequent letter to letter E"
      ]
    },
    {
      "cell_type": "code",
      "execution_count": 13,
      "metadata": {
        "id": "D5jDHZ6R7Kl-",
        "outputId": "59fb3b78-da02-4017-86f4-8ff42fa2bc48",
        "colab": {
          "base_uri": "https://localhost:8080/"
        }
      },
      "outputs": [
        {
          "output_type": "execute_result",
          "data": {
            "text/plain": [
              "7"
            ]
          },
          "metadata": {},
          "execution_count": 13
        }
      ],
      "source": [
        "# A shift cipher does not change the shape of the histogram and neither its entropy\n",
        "\n",
        "# Maybe E is encrypted to L?\n",
        "# We calculate the shift\n",
        "shift = ord(\"L\")- ord(\"E\")\n",
        "shift"
      ]
    },
    {
      "cell_type": "code",
      "execution_count": 14,
      "metadata": {
        "id": "NFHWuIjX7Kl_",
        "outputId": "9df9c987-a695-4584-f547-5100448b8c3e",
        "colab": {
          "base_uri": "https://localhost:8080/",
          "height": 52
        }
      },
      "outputs": [
        {
          "output_type": "execute_result",
          "data": {
            "text/plain": [
              "'ONCEUPONAMIDNIGHTDREARYWHILEIPONDEREDWEAKANDWEARYOVERMANYAQUAINTANDCURIOUSVOLUMEOFFORGOTTENLOREWHILEINODDEDNEARLYNAPPINGSUDDENLYTHERECAMEATAPPINGASOFSOMEONEGENTLYRAPPINGRAPPINGATMYCHAMBERDOORTISSOMEVISITERIMUTTEREDTAPPINGATMYCHAMBERDOORONLYTHISANDNOTHINGMOR'"
            ],
            "application/vnd.google.colaboratory.intrinsic+json": {
              "type": "string"
            }
          },
          "metadata": {},
          "execution_count": 14
        }
      ],
      "source": [
        "decipher_shift(c, 7)"
      ]
    },
    {
      "cell_type": "code",
      "execution_count": 15,
      "metadata": {
        "id": "tcNvCc4W7KmA",
        "outputId": "4f50d2cc-9198-4809-a9a9-6d195090f02b",
        "colab": {
          "base_uri": "https://localhost:8080/",
          "height": 52
        }
      },
      "outputs": [
        {
          "output_type": "execute_result",
          "data": {
            "text/plain": [
              "'ONCEUPONAMIDNIGHTDREARYWHILEIPONDEREDWEAKANDWEARYOVERMANYAQUAINTANDCURIOUSVOLUMEOFFORGOTTENLOREWHILEINODDEDNEARLYNAPPINGSUDDENLYTHERECAMEATAPPINGASOFSOMEONEGENTLYRAPPINGRAPPINGATMYCHAMBERDOORTISSOMEVISITERIMUTTEREDTAPPINGATMYCHAMBERDOORONLYTHISANDNOTHINGMORE'"
            ],
            "application/vnd.google.colaboratory.intrinsic+json": {
              "type": "string"
            }
          },
          "metadata": {},
          "execution_count": 15
        }
      ],
      "source": [
        "# compare to m\n",
        "m"
      ]
    },
    {
      "cell_type": "markdown",
      "metadata": {
        "id": "ykZcd3sm7KmB"
      },
      "source": [
        "## Vigenère Cipher\n",
        "The Vigenère cipher is a method of encrypting alphabetic text by using a series of different Caesar ciphers based on the letters of a keyword.\n",
        "\n",
        "Let $m=m_0 \\| m_1 \\| \\dots \\| m_n$ be the plaintext, $c=c_0 \\| c_1 \\| \\dots \\| c_n$ be the ciphertext and $k=k_0 \\| k_1 \\| \\dots \\| k_m$ be the encryption key (which is repeated until it matches the length of the plaintext).\n",
        "\n",
        "Encryption works as follows:\n",
        "$c_i = Enc(m_i) = m_i + k_i \\mod 26$\n",
        "\n",
        "Decryption can be performed as:\n",
        "$m_i = Dec(c_i) = m_i - k_i \\mod 26$\n",
        "\n",
        "we shift by the number assigned to the letter of the password"
      ]
    },
    {
      "cell_type": "code",
      "execution_count": 16,
      "metadata": {
        "id": "l97OEpMc7KmC",
        "outputId": "d63026df-b204-474f-9b0a-fe964f0055db",
        "colab": {
          "base_uri": "https://localhost:8080/",
          "height": 35
        }
      },
      "outputs": [
        {
          "output_type": "execute_result",
          "data": {
            "text/plain": [
              "'THECATINTHEHAT'"
            ],
            "application/vnd.google.colaboratory.intrinsic+json": {
              "type": "string"
            }
          },
          "metadata": {},
          "execution_count": 16
        }
      ],
      "source": [
        "# We use a Vigenère cipher with a key of 14 letters\n",
        "\n",
        "k = AZ('ABCDEFGHIJKLMN')\n",
        "\n",
        "m = AZ(\"THECATINTHEHAT\") # a sequnce of numbers that we encode as letters\n",
        "m"
      ]
    },
    {
      "cell_type": "code",
      "execution_count": 17,
      "metadata": {
        "id": "tp1q_8US7KmC",
        "outputId": "23970cc1-c8e4-499b-8670-8abe2e3da25e",
        "colab": {
          "base_uri": "https://localhost:8080/",
          "height": 35
        }
      },
      "outputs": [
        {
          "output_type": "execute_result",
          "data": {
            "text/plain": [
              "'TIGFEYOUBQOSMG'"
            ],
            "application/vnd.google.colaboratory.intrinsic+json": {
              "type": "string"
            }
          },
          "metadata": {},
          "execution_count": 17
        }
      ],
      "source": [
        "c = encipher_vigenere(m,k)\n",
        "c"
      ]
    },
    {
      "cell_type": "code",
      "execution_count": 18,
      "metadata": {
        "id": "VQurkyoA7KmD",
        "outputId": "15a865b7-762f-456d-f4c2-24c03b3a3122",
        "colab": {
          "base_uri": "https://localhost:8080/",
          "height": 35
        }
      },
      "outputs": [
        {
          "output_type": "execute_result",
          "data": {
            "text/plain": [
              "'THECATINTHEHAT'"
            ],
            "application/vnd.google.colaboratory.intrinsic+json": {
              "type": "string"
            }
          },
          "metadata": {},
          "execution_count": 18
        }
      ],
      "source": [
        "decipher_vigenere(c,k)"
      ]
    },
    {
      "cell_type": "markdown",
      "metadata": {
        "id": "IPBKjQTD7KmE"
      },
      "source": [
        "A Vigenère cipher can be attacked with **frequency analysis** if we **know the size of the key.**\n",
        "\n",
        "If the key-length is $t$, then the ciphertext characters $c_1$, $c_{1+t}$, $c_{1+2t}$, $\\dots$ are encrypted using the same shift. Therefore, **the frequencies of such characters are expected to be identical to the frequencies of standard English text.**\n",
        "\n",
        "we attack by analyzing each column independantly"
      ]
    },
    {
      "cell_type": "markdown",
      "metadata": {
        "id": "8XOjvJyJ7KmF"
      },
      "source": [
        "To find the key size we use the Index of Coincidence Method.\n",
        "\n",
        "We sample the ciphertext with period $t$ and calculate the frequencies.\n",
        "\n",
        "If the key length is $t$, then the letters in the sampled text have the same frequencies as in the plaintext language, otherwise the letters will occurr with roughly equal probability.\n",
        "\n",
        "we guess a passwork length and compute the Entropy of the from the relative frequencies and then if we number of entropy was close to unifrom it means we have distroyed the actual frequencies of the message by guessing the length of the password wrognly"
      ]
    },
    {
      "cell_type": "code",
      "execution_count": 19,
      "metadata": {
        "id": "axqOlSc67KmG"
      },
      "outputs": [],
      "source": [
        "ct = AZ(\"\"\"\n",
        "YOVTZFJBUOYIPWRLHISZQHEHCJMFJHMLDGGYDZDRDLKECXAYGAJSPFOWYRLWALNZWHOZSAFIFMH\n",
        "YVGWBNUVAHMLIWLULTLBTYJGZNJZLPJSZWTRHUABILVVKTBCVWGLKGSCWVUHNAZFOHHJWKMLIWA\n",
        "DCVJMXLEKSXYVBSHAKZSNYFOBJCZVSSJVQSYTRVORPEGHFUUNSWFJMFJSPVCNUFLRWLREPZAKGA\n",
        "TYIGKNKZWOSKKGRFFZOCZSUMBGBILVJUDQGTBCEMNTDWRNHKWDZYGGGJPJLCUSRUSGLWGFJAYWK\n",
        "TYCVDQHZFZDZLUQNUTLZDHEVKNAYGIYJFEAJUKSGJYZWGTMDWFJOFMGJOFDRJCVFHXPELVJPIUC\n",
        "SZVIIJUTWGYOVKSJCVFHXORNSYLIJWKPVVVFCVLCWALJSIORNSILJLFTFVVAJFVLWBPCDBTARLH\n",
        "JTGLHTLOHCZUULVJTKGAJAYWMMHMWDWLJWBYLUDWYACWPZAYGFWVILCRHEQHMLPOWQSJWSRSVKG\n",
        "YLIJWGSVLVFUSSFTXLWGMLIWOKAVJDJYYSDXZFESNUKWZQLTLAFFSWTTBEVKMPTZKNSCJSIBTWA\n",
        "DWYSBYHJEHTAYWQTTDGBUSRUSXVDWWSAVDZJJKECWLTSZRTFJSQVXAQFSRFRKHIDSXZVPQNARTZ\n",
        "JAYSBRFFOBBOZUVBPCDDJYTWWALZFHMLTAFHBDKHFUTWGNKVLONSNAHMHNWBTAYABLTFJSYORFO\n",
        "SVIVWSHIQGZJTWGXPFFCKCVJMSHKMFFSTSIXLJSBILWXSHAJXFTTDQWSMRFQDPNSGSVKWRKVILV\n",
        "JKFUWQPKQOSKYMAFUZLMTMDQRNZGGGNAZGBRFKWBILIFSXZFXVJHILKFZVNSSZFUCSZGAQZVLKO\n",
        "XAFEOPLDWHMLAWGYVWEMHVDHOSPFFGNDRKSXWVUWFSCQTTUUGTFUZEOQZRFRBHJABIBCYSIIPEM\n",
        "UHIWBYZNAHMHXJSFAMSFNLKQCKWVLGBPKZHMLJWWXWVFHRVJLCKTPLWRLRFRSLMWFBHJKCMHGHM\n",
        "FZNZSSMVWRNUXSBIJRJSXZZFUYOVEHMPJHSHBCAOWVWUVFYRUHJYXJSBDZLVRFXJCBAYSBIPEEM\n",
        "RHEZCTKZVSWPMWRKYFEWYVEWCKTPHFNUTADFSJGIWJVKCKWCWOXBIWHTAYGGJDYGVFCVUVJYZKV\n",
        "JKRFOKMVUHNVEXCWHWSWYOWMZFUUKOLHTACZZUGUNUVWRMHIVZDIVSHYOVLFTBSDSTMVPDQHZFW\n",
        "SNKZSSHKMFJVILVJPELSSZZLMTMKZSLYRLWKPTSHNVELVZZUWFNCRTZJAYWFJPJKCRLKZWSNZFH\n",
        "MLLFGJSWAGMHEVGJSWKOHYZXWHPEYZTCVGTFIIMHJDYAQMNFWGIPIWQYSPLCYOVZSFYKGTMPDOV\n",
        "TORKVFKWJSVBVFHTJTSGNVELCYLJLHMLGSZYYPXFNLEVGMPGSBINFKGFTVJTNKVDWYFFXAJYVEO\n",
        "SPDSFWPVVSFYCQOSKNSGMHGHMYVWABIPEEMBPWWOIPJHCXPKACSUFLISJFFUJUZSZBPKZADVNFC\n",
        "GZVJJNUXEMUHILWFSZLMKVIVCRLJLWHWVLGXOVDCXAEGCUWFJHZUZLMTMGJCHBIABLAYGGJVWLV\n",
        "JTFKHFNIWSFICWYNUUOSMHUTWWKJYCQKWAGMHWABJKFYFFISAHXHJEOQSDGBPLPSBIHTSHYOZKZ\n",
        "FAKWFBHJSFJTRJYFICQZFYXWOSKSWOZAZXIQHEAAFSVFHNYVDMGSRUYFUUKOLHTACZZKGOSHJLC\n",
        "SPJZWSNUWUWLVABXWVSYNUXGTMPJABYLCDWLLEUSRFNATJDYGOYOVSFYDRKBTARDWYACWHNUTLI\n",
        "WLUOWYOJMDJYJLWYPFFAFKVXFJXLWBYHCDIXPFFHTAYWOSJZWBYWFHIQHIFCYPFFKMPTZFJNRJR\n",
        "JKRDZGSRUYHHKKOXDZLQMLJABIPJYINZVFCYAYSHXOVOOXLMWFXLIACZZLHCSAYAGUVZFHFUUAA\n",
        "JUKACSAYWAFAKWFFARDZKVIFCGLKLSWYVSGTUKZOSAYSHNAYSDULEKXZZKFCBAFTSWLDWAGLIWR\n",
        "USLLCYOZKKFZKZSHHKKBFTVOOXTPXOAVIAHJWVLOSKGDODTRLSNHCGBJMVVVNTRFRMLRLHJUUWR\n",
        "RLNZSWLMWFNDVFHFIFMHYOVZCZZVAHBHJWJJUNAHMKZXTNJLDHDAYSHNJFMZIWIWJJUKZWRMIGA\n",
        "KVCDCBPEYAJAYJCZNYLVJZKJSJAJGIWMIASSKJZWUSRKHJKZFHMPJEOSUVJTTYJWJJYRDMJHIKR\n",
        "ZYZFUBOZUVRFXWBJYRDHJTGWFFTVFHFUUUVFYRUHJYKZFTBXZHMLZFGYYLESSARDWYFFXHMLWAS\n",
        "SKZFHJTGWFFUTWVFKZTZZZYLCHVEXSXZZLSCWVJWJUTWRFYRVWHHCSZYLISHNVEXCWAYWKTYJWW\n",
        "LYVORFFSQRFFDGFJTFGRDTFJSNYIAHFICWATYVJSLHIVZJZJGTYOVXSJSZFUXVWGHMLIKWXBWXS\n",
        "WLUEMXLCXHTBJWWSAVEDJYRLSQHEYIFNVLCRFRLZJUXLVNLMWBTMWWFJKYWFULIKCSHCNWTSVFQ\n",
        "JTPHSYZFXQTBIKSBLIWAFKVLCKLVDHMLTZOSNVABRFUAGUVJAHNVEABTAFFZDUVYZJJKWRGBKAZ\n",
        "QBJWRYOVETTYGDIYVYGKJCVJWXAZDZWLKSWSLUKIKMZUWJUKJSLHIVHTYVKHWHZFAJMIGARHCLF\n",
        "JHKABLOZEOXPDSRJUFKQWBGDSTMDSZYYVSHNUXLVJYRTPNAJLVJTFFYJFFJSALELVJKFYKMLETM\n",
        "FJTARJUKGFYOIGILORXTJJKACSAYWMHHDWWSTPOODILLADKZKSFZVYFJDLHCSTVXCWDYSHIPJWO\n",
        "XLZKZNRVSZHVYGZFUUSHQLEYHMLMWBUSLLCBOFOOXUFOPJJFEWSNFDRFUUUCSZVIIJUKDMXVDWK\n",
        "MHKHSJCZKVJCVFDQBKGPJNRFHTLOHSWPVFQJAYWSKMVUHXVWEMNSCLSRWVJCSLEAUMAIWHZYEAB\n",
        "LOFESRBTZWSAFPWHHKWRKYFECSLFXADORMBYZRTCZAKGKSPWSBHPVVHMHKLVJJRLOAVZVSITPHF\n",
        "JZVFQJPJWWELUZWRDYWBNUYAGKYZYVYHKEMAPFDSSJVZSNUWDWHAVVOXSZYVYDFMBIBGGBRFYSB\n",
        "IDZLVMPJLSJAYLVJMLJMTMRVSRVEABXARFHQFGGGXLJKSITVAYSLNEMXLCXBTSFFUJYDQCWPXAB\n",
        "FSJGIQZVWAJKRLCSJVLCYHBWWYZWDWLOKXFTTDQPTKPSBIHDGFJAYSBKPVFRNZYEOQLMGZJUTWU\n",
        "NUEMFYBIWRYOIAZQLUWJJYPXWGYVGTRFWJORLZLCTRWJCRTPOONZKUCFAGGQPLKSDJUBFWKLFHS\n",
        "SLUAHLYRKDJKKZSUVFJPJHJLPDAYWHMYFSHFUUVSQPSWFFAVDMHBKGBJVWAHXLPWGKYFEHMLJGQ\n",
        "PLKAPQBJZWGBIFWXOLVRJYNZWQLZHSSAYWRFTESPQLRLFTJZLMBOVFFJHJGBWLKMFSLUOWYOKZS\n",
        "RVIFWSNNZSSPYSRXSVHHTMWLVJMLESXVWLVJUZYVYZUWPFBTZWJEGWFNLEUSIHJWBYPDWBYORDT\n",
        "TMYGFWVIZOQMFXFJTFJGJMFJHMLTJWRLFXKMPTZWMHUTSJUXMWQAPTIYPKOOXHKTSXARXSJICWO\n",
        "SKVIINCFUOQMVWZNUXSBIAYWGTBCJSRHZFSIBELCZJYWRNHXSWSWCMBLLUABYVVPQJZJSBIZFGB\n",
        "IYFOBJKZFKNUVSZQTVECWFFXHMLUWSIPELVJTVSBYPDWHMLTSHXSFOZDYVUCALIWRYOVKCHRVLC\n",
        "KAYWZTZKWMJWIWGJUKWRNAZKHWBVSTWPXZHKBCSDULRJOSJVTIYOVFCQVEYSWHGHSFYVVHTZLXT\n",
        "JYRFMUHZFVJDVFHFIFMHYOVZCZZVSGZZLSZGBKSGRPXZHGLVPDJJKWRKSVVWSLOLFJTVLSWYFJO\n",
        "YTPSDUYFSQMPYSRXVDMQMVWEMTSUZSFYKDSKARKHTIVSHKPIKHLYZWJJKSQHMPJWJNKVFHIPJDW\n",
        "PLFFHMLGSFYVWSQWLRLIWLNZWHOYSRTUTWGTSFNSITVTIYAYAGKLVDWSNJGCSNRNSUSRUSYVZJF\n",
        "NARLWTURFRYOVFQFTVSGNMKGADMZFOQHEVWWYVNCHHSDSTCVJHMYFOHMLJHWWPKGTULINSWZVFS\n",
        "XZFXHMPJKDNYZLDMPCGGTWYQHFRVKBTHTUCZUKQSYPREBTADGFJZLJSYORLADZFMZQPMWGYORFW\n",
        "FTKZOYWVJJJYJWBJZJAGTUVGTYOVHFNTZLWALZEDZSJWGTMKZSMBDSBMLRJHTUVGTYOVABIPMAG\n",
        "NICWDWPDSFDMRUIQAZWGTYJWBYPDWBYZNZWHOXAJJKZJSHAZGBYVKZSHORJOHAVJCKTRFKMVYSG\n",
        "SVKSVZUUJSIAZESXMFMBIOZEGJSWUCRTZLHNUXSJNSVGFFZZDZDHTLWTUWGFSVFLVJYIWOXVELV\n",
        "FUSWQFBJWVJREGKXOVKVTBCVBTAYSJJDVFCYHGWFULKMOQPEUZNURLWTUZFHMLKWSYOFXCZYSWG\n",
        "YQLVURLELHTCZGZFAVLVFANZWHOZKZFDDWFJSPTSHHLKSBLLFRJYJLOSKZLHTIVKIHOKZWXZGAF\n",
        "NAFXDJYMWFXLEWGXPJSMHHDWHTTPXWSHCGJJYKZFTDZLKFZKZWXBEXOYOFEOGSVDCSNZFUTMKZS\n",
        "XVLDHTCVPWYZVDTYVFXTJYMACQLEUSYVZLGTDEFOYBIWHTKFOFTUXXCWAYWKWVEYGXHBWCSSPLV\n",
        "FALJUJKDWHTJFFHNULWOSKWABFSCQHTJFFGZTDSHJAYWWSQLJMNORVWSMCAQYLUMDTUKZSZUFXT\n",
        "JUUABLIIMHJVEWATYEABLPEUCTSSDCTKZKZNWGWRFUFGGJHSGIYPKKBJJBSBIOLFUNAKGHMLCAA\n",
        "GVWSHWLVZISNZLKNAYLVJAVSFXZKJSFTZFUKYFEADLPWGFUUOWYOKZSGPKLSWLJLFJTFJGJHKEM\n",
        "MLRJHMBEYWYIVUOZZVAYSLNLVFAZLVFKCGJJKDWOSKSWQFBJWWKLCLWYORVUNCVFAJUFJSFZFFC\n",
        "KVWXSSJVZISNZLPJJRMGJPBFSBAYSHNUJGRTPEYWBHJUCRTZLHNUXSGNURVSFKCQGNUKZOYDFMZ\n",
        "IZFBSTWRJRNGVEMNTDGFYHCKCZSRKHTWCSQJPKATXBTZOYOZFUBLIWDTZJAPQLVNSSIVQCSKKZS\n",
        "WLRUVTMKZSNUWABNAVESWJPGTYOVECXADWFHPWMZFUUECXAKWFWPSDSLVUGBYOVFWLOKGTYOVVO\n",
        "DVEOVNJYLVNZTJIJSUWSIDRKRTUVAKFZRJCZZVVTWVDKZJLGTMYOVUFDVWXWWLKZSHBILONUJGT\n",
        "RFSWRBLIWWSMCSAJZKZSBOFDSMVLKSBHJTZFGZFUNANSGBPKZUWLRLRNMWAQZSKQHMHKEMBPWWO\n",
        "XLINOSARFRRFJWZKTRVSTBIWGHHGWTWVDLVJJFFTQHXJOYPFFHMLUWGYYLUHNVEOOXJFEDQLKWA\n",
        "DLELWWLNGFQKCQKJHCLVBHJKKFSCGKJKLHOSKZJSXPXFSITPKSQMKZSSJVXCWDRJRYVUWGUHZJW\n",
        "FTRTCALKZSBLRCBJZJGTXLVCWSNKGSXARTZNZYSGJXLWBHLFXQFBJWOSKVXTJJKTSYDVWBYOVVW\n",
        "XHJLSWHEVHMLRLFTJZLMGBKAORKVLONSZFUFJYSWSVWXOHAJSBIDZKVSVKLCQLRNSJCVFOUVJKW\n",
        "GSVDWSRZEDJYWWQYVELVJKRQGZJTWSIPEYHMLWAFJPMAGNAVVHMLIMWSZKZSBHCDGBPKZCSLVPQ\n",
        "JWKACSORVTFSCWBNUKZWXLOUSUAZGBBHJXCZUUABFJFEDFYKESSANSZQUFLJJYPLVNJBOVNJYKH\n",
        "TVUSPTBKLVJTZVRQLFXHMLYGIXLRFRFNRABXANZWHOYSRWLJLSIAYWVJHUGTRFSWRYOVHZFZKWF\n",
        "NUXZOIOVJSNUXJSFADWOXBIWFJZZKHJKKZSFJKACSVWLVJMZJSFMRUHBOZUVNHKLFNILLSIAFAH\n",
        "XORNWSNSWSSYVUSSACQGUYVSRFIFMHYOZKKFSCSRJUJWQWVNVKJYVUCQSVUHJKRFRRHEQDJYJGB\n",
        "XZVWAJKKGPJLOSANUZFUFWRJHNJLDOWWFJHNVEGTNANAHMLMWFDTZFIYLRFRJHXWFFAKWBYPFFH\n",
        "MLNGFIZJLFFUXWGNUXMZFYRFRTAYWFXPDAZFYVPDWLJKWTUJWLHPKWRRFTMFNVJAHDPRHDWVRUV\n",
        "JKRFRXHNSGNMXJOALEABGHJJSQPVXIUVELVJDYAHJZLJTFJVLVJMZYIWLFXOLPXSBYPTUOYAYWW\n",
        "RWIWGXPFFKFZXAJJUNAHMHESQHBISQDAIMZDTRJJJSCGIXAYWFJDRKOWVGWOGVLLHMLRFWRHCKB\n",
        "JJBOVJUZXWWZKTSMLCVHMPJSDUHIAHNVEXCWPTGIQKJUOWJVDMWLXSFIPKSGQLJKADDFFRJYRFR\n",
        "RFKWFWVIOSWLVPHWLDWPZARLZJUXLVWLWDSHAZGBHHDWHTTPSWIAYWQFAZJSRLDTSWLUZOIIVWB\n",
        "MBEYWSHXSFILESROHTWBYAFLVJOFMGJBGGBYOVSZFYDGTKPIWHMPJYOWKVFVFKSWSSPDESIPRLS\n",
        "QFWAZQLUTMYOVUFTDUTMXVDWCSLFXKMVDLVJHEAAFSDMGYORNSGLVFQZAWJCRAYWHWLVSBIAYJC\n",
        "BUKZFTBXZOSVGWBBPEVCBPELCRFTZORIVJHMPJZOIWIGPFICQPJLEVCSLNAHMAYWJNLNGTFYFMG\n",
        "NUXESKYFEGQLVHHMLWSZQPEYCKVKZSWDRDZXORVQTTGJSXZVVHMLMAQYPDGTRFTJIJSKQWSAFLV\n",
        "JZLTGYHEUSTMKZSKYVKVQFJHFJHUHZFZKWFYOVDWRLFXKMPTZVFKKZSSDZLVYOVXZFTVKOSKKZS\n",
        "FTDGBNHWJCRAYWQFYTSGXHTUCRWCAGMLULVJWFJHWHZLIWLRKWXHNAHFSKZCZNYAHMBJJSFKZDM\n",
        "FJTGISAVVHTTPJSFZFFWKUFLOQAFYSYOVJHTTPUCSZTASSJVXCWAYWGYHILZNUXXOHAAMGYKVLO\n",
        "NSVVWYKZVBTAKZSQLJKTFSCLCRHBWOILVHWRWIWGXPFFIUVEEMKHEUMKVIECSAYKWHVLDRSVKJW\n",
        "ITPKSQMFXHMLGZOSARKATMKZSHHKSBIKLJWSNKZWXWVJWTKKZSWLTSAJIRUYNUKGADZGAFNARZO\n",
        "QMJWBYPDWBYAYSHXLVESIILLKFZEGHWLDGFXLZOSSAJGTFYRKHTYVYFJAKZSQVJKCKAYWOSPDSZ\n",
        "FUULCQVFCOGVLLAJHDGBLAYWJNSVZOZUKKKMPTZWSVNZOGPKMOQSPXFJXLWBYLUXCWHEGHMLIHS\n",
        "YVWLVJZRESXWVUWJZRFRTMJGAJDYSHXPDAZFYRHDJHISBHLNAHMDYAQMAFKIUWCQWYZGDOHLFFS\n",
        "SPXZHFZZKOYORDTXALHSKPVVWSHUWBTMDGFJAYSBNUWSADTPSHYLELWTUNSGXBUVSSSPVFFDELC\n",
        "XVDWPQHTCCGQVUHWLGGGNUXMDTUKZSMLRVCKVEWCKAYWWRTVFGJOFYGMLRVGTMXABTYFXFZTNZW\n",
        "HOTGBXAZLIYLULVJJYASKMLJBNALJSTMKZSFWRJHRLELWMHUTSJUCGCPPEYGYLRVWQFRLHMLKGD\n",
        "TMKZWXOFYGMLRVTTYJGAJTZFIYLJSBIDYSHSVNUOZZVVAJZLJDWPJWKFZKZSKHTLHMHKAVFKEGH\n",
        "XVFFSWWVJQJPMWRYOVGPOLTLHMLIWIUVEAOUWIGOHOVVWYHEVHTBTZSIPKOWYODQVFUUAHBHJSP\n",
        "QHTCQFARNSWFCSFLLFFSKBCDMFZCSFLLRKDQBKGOSKTDCXLCQFJZVEPQPEYVNTZFSALIQFJZGWQ\n",
        "YILLCSLGDIYVYSRSVKSKMPKWVFPIMDTURFMUVILWTUFXVNZSGRDILLHMPJUOYORVOQHIYSFSKZC\n",
        "ZNYABILWABNAVKDQVKUVTMNZWYLTGJJYZFUSLRJZDAYWKMVCWFJNZGBTMKZSGYVSGYBGGBRFKGI\n",
        "HOZFUMPDZSNTDWRNHKWZDHIGGJWLJFJKCGIISPJIGIVVOLHZFGYTPZOSKRFRFWGWOWLUVSQPXZH\n",
        "JKNAHMTPFCYPTWHMPJLVJUNSGYOVNSWFTJSFALJSTMNZWHOZOOXPEKSFYTZWFAFFQJVWXSWLULC\n",
        "UBIUVFZVAHTMKZSQHEVZTYUTIYAYAGULIKCSTRVSSVTDONTKGWYREWKSVKZWSNFXWYORVBJCVJG\n",
        "JLEAHGLWGFJPTGBYPEMSITPUOWLJKSXHEVKMLEADWLGSFJKKGUTOFESYOVSBNTRDSAPEUSIHUAG\n",
        "UVJAHNVELCFJTGAUHEQAJPGWFRPKLSIPKLCIVJGCHJRKWTURDZDZKGCUPEYOSKGSHYPEYWYHJAD\n",
        "WVTWSILUOVJUZLFJHTZSIAYWVTBJWWYKFESXAZUOYLUAHXLCXOYVEUSFUUTSHHDWWRTVVWFAVDM\n",
        "FNIWOYMRNCWPKWKNAYEMBPWWTTYDQCBUGSFYPJGCSMFMBIHUAGQPBWHTPKSFNZZFUBPKZWSTVLV\n",
        "NZNSGOBJLHMLIWJJYJWCKDYSHNORVOSAZUWUHKWRGBKAYSVNFCYOFOCWDYQWYDRKWYZVNWILELT\n",
        "TUUFSXZWGFRFJWZKYRLVJYUAGLBJLSIHEVOSUFQSIIPKZTDUWUWLVKHMLJWTJLCABLZFXRNZXMG\n",
        "YHEVOSUFQOSJVJCXLZFHTAYWPNAKWFSLJKCKORLFJKZSJTPUWRYOVUFJHKMFJHTWFYHZFGJUJWC\n",
        "KZYSAJHEVHMLIWAJTSJOSJVGTRFWGFRLIVSJKFXQWBVDHDWIWJJUKABLTVXFTTGZMXPTSZQFRTI\n",
        "XPEYWYPUARSVKXCWZFESBLVCGXAIAYJVIGHMLIOWXLMACQLELZDPCDIXLZLPZAXJOIBRDZDCVJM\n",
        "LYRVIFSCQWHHDWHTSFGYZWFFWYDZLVZULLHJYRTZJSFSHMPEYOSKKGTQLVKWQLELZDMIGANAJGR\n",
        "NVLKDWLJWBHLRKTWVDLVJIIWOYOFXOULJLWQLEUSBORLOIKVVBTKFMPYAFEMMHKJSIVWLVJIVSG\n",
        "YDRKHMLUAGHVMWFDVELVJTFJBNUXSTYLIAPWVLYVYPKZCRLKZOYSZCSUSLLCNARDGTORVPJLEVS\n",
        "UYZNSIVWGBJVWAHXLPWGYOZKQNYTMAXARFQJOFOSALIGBQFVFRJHIWRNAKGADDZXSBOFSGNORNS\n",
        "FSIWOIFJSWIWFKGJZJWRNURZWLOUWUWLVLVFAYMAFUZLMTMWWSQPEYKMPTZVFKFFQJIVWBRFUAG\n",
        "YPEYINZYABLAISWYHEVHMLJGIWJVGTRHEQCKTPKWRWCWGYHEVDZYVKHUSVSGZYVKKNAYEMFCVJG\n",
        "NVELCYOZKQFAYGKJCVJWYZGSFYPRDWYFWGFRFJWZKZVWAJKKGWSJIWOXLZLTTSCGKJKDQTTVKKH\n",
        "JWJOWYORHSWAZFOHPKQKMPTZWYDFMZIIVVWKMZUIQAKGAFRVLVJYVSRJYTGAUYVZSSKNZSSLMWF\n",
        "NZRLWYDFMZIJIGIHOSWBJHKZADJYSWWVIKDWPEYIUVEEMPUVWGHVMWFNUXESBPKZWYZCGOYOJGA\n",
        "JJRJSXZVKWKPRJCXLKGKFSBAHBVLDRLLKTSYDVWBRFWWSYHEVHMBJFSFYCQHMYFOAJKFOBTYWSG\n",
        "YLEABLPKKZTUXSBIZYSFUJCSKXPEEMIYVKGHSREPJYZFHMPJEOSUVJHTTPTFJHJLOYZLUVYPDWG\n",
        "FSKZCZNYAZTUXWRYVUWGYYFQWYDZLVFICGKNDRKMJANAHMOVDRKYFEGTKFABLWRJHQFZLOYIPSA\n",
        "JTFJMTMDQTTYDWFHYZESGBKUVNLWDMQLKESHVEXSXZZLOYVEUSGFRTGTSLLSIYVSRTMKZSGLRKH\n",
        "YOZKRWLRVKFZEGHJERUHQFRVFJHUGTUOPKWHHCWJNSRFRDLKAGMVLDRGLRLOQVJKVTDFLVJYNAG\n",
        "JAFVSKPEWWYPREOQTFKHFZYSAJKKGCBUPWGJCVFWSAYAGKLCGBXJVDZNHDSZRVJLOXORESIAFGK\n",
        "SAYSHYOVLSWYFJOSKYGFWVIOWYONZWHOKZSFUZEOQPEKDNYVVAJORVPJLEZSNNYLSSLUTMTUVGT\n",
        "YOVESWLJLQMPDSSWHJAHBVLDRGLGGGXPSDSYVTGBHLZNSRFNATJORVQFSCWRRFRLHJUKACSTFJS\n",
        "YORFCSJVLCYOVUVFYRUHJYFXHMLDSFPVWOVNAVZONYFXKMPTZWMHMWGUVBWBFUUOVNJYUCSZKAH\n",
        "ZAVVHMLJGZJCZKWGSVVWKMVJSSJVTSYDVWBYOVKHWHEYSGLRKHFUULVJVEWWMHUQGNKVKHWVPWR\n",
        "YOVJSFKVJKNSCJSRLDTSWAYSHYOZKAFYBSZYOFMUMSRJUJORVPJLEGFNNZFOQSPNSWFZFRJMZFW\n",
        "YLSMHGFJDCBKVYFJLJVSLYVWGSLRJZDPDHSWJVHHNICWOSKNZWHOWGFFSFFUYPDWADYVSGTUJLF\n",
        "ZNXDSIAFJSOLTLOXMRFQNMLDWYORVOYSVFUYORKGZTVVOWPXGFTBJVWXAZFQYUVKGTMFMHQPEWW\n",
        "YDRKBTDKZSWLGJSXLELOYPFFCKHEGPOLTLHMHKAGMBUVSWAFFORLRFRKVILVNZRTCALRDZNSFSH\n",
        "MLUSBIKIWOILUSBIDFMZIORNSWPUEMXLCXCKAYWATUJLSWORVWIHIWRNANSGSVNAGFFKZSNTRYS\n",
        "TMRZWILFMGTMRYVFZKDMYOZFUTMKZSLHCDCBZFZATBIFTZSRFRYLIJWGSVWBLPEWCKOFJFTYRFR\n",
        "TMTJWRLFXOLVEQOSKFXRJHKZOSKEGKBHJAWSKVWRBYVLQMLUTSDVEVHMLNJSYJYWRSLJKCKTVJS\n",
        "MBDSBNAPSBIHSJIYLSWOXANZCXLWWZQVNAVFKTGBYLDHHZVLKZDKVKHWVPWRFIIMHJIVSGYAFOC\n",
        "WRFMHKVIESKVIESFTRFTFZYACSLUABYOVAAFNVGTYOVZWLOXGRXVDMQMVWABXBWXSWHSDSBVRDO\n",
        "XUVAHMLITMIHPFCWIPFWLOKCBJDZLVJICWGXPEYCKYVKHFUPECWLUMFNUXLVJMFJAJYKZSHYVSH\n",
        "ZYVDSKADWBTTFESSARDCSLRFRNUKZSQHKLSWPJLOWAVVVTBIDMKYFERWLREGTMLFIYAVJOGSVXS\n",
        "FYKGTNUULVJOFLPWLRLVTMKZSYOZFUZWFFADMRUSFUUAHXCRKHBLZYVYHEABHHIFOYLEAUMADSF\n",
        "JAYSHNORVBTWFOSWAFKVFRVGTKPEUIRIVFHJAVJBFSCQIUVEEMMLRJHGLEWOYOKZSUYVKGZYVGT\n",
        "YVIESSAJKIHORKHMLJWHMLWWSGSVJSRURFHTMKZSLVFVKNAYABRLJMQHBDTSILMAZYOFMUMAJTS\n",
        "HHDWADZFDSNUKAAFAVKHMLUSFPLJLOSKDGGYLMAZTMKZCZNYLGYOVECTKZFSXZFXADBJMOQAVED\n",
        "JYZFQWLRKSIAFZOYYVVCKHCDHMPEYGFUUGTFSCEOSRZFRBOZDSKYFEHMLJMRILEXFJXLWBYHEVI\n",
        "SNFNSWURTZJVLLPZYJLGTMRXIWFKGKMPTZWSVNTZNUUDMFIRFRTUVVADZVDTRFLFQTTGDONUZFU\n",
        "BPWWOQHJOOXAYWATZKMGZHCSBIAYWATZKHOYPVFHTMJMTKLIWFXVEWRFFJZSFJTGAUHEASITVMD\n",
        "TUJGAJOFMGJOFDRJYISBIPELCYOVUSQSRJCKAYWCQKSMWQKZFUBOZUVTBIHCALILMHVDHSQSVVI\n",
        "XAFABMHSAHYOVUOYMFDZTDVVAJKFOBYOVKHJLGKHFPIKOSKEWOWSPLVWVNABLTVZSFKCGBLLOSG\n",
        "ULISHJKDWHTTRVBJZJMDQPWLWSNRFOCLRFRKVIYSYAZFUNUDQKWHKZHMLTZWQKZKVIYVSRBOZUV\n",
        "MHUZWYOVJHTZKSMJKDQVFUUAONTVVOGSFOOYAYWOSPDSZBOZUVTMTGIWZVOCZSUZOALGJCALUAB\n",
        "XARFHQFWSHFSYSRNAUWGHLEVSIHJAKNZYWRGBKLVNZSDCBDRKOWYVKHJKSQHMLYSBIVWEMBPWWU\n",
        "THUWRGFKZSNUKWFKLIWBHLZFHTHISUJTFJSYORFRJTFFWFJRDWBPKZRWLNEMFYDXFTTYWFLYRKD\n",
        "FUUTIWPVVHMLRPSNUYWFGYRABXOVXSQSUWOIBGGBYOVKDTANAHMVLLOLYFSBYOZKVNKVGIXTLJR\n",
        "JYRUQTTGDWXOVVWXLKEMXLCXTTYKZKNAYSBIDZLVJUKAFJKVDWGLISHNVELCYOVLOXRFXQTUTWO\n",
        "QPEYHMLSGRDPBFSBAYSHNJFMZIUFLFJTFNSNAWJCRAYWVTBJWSNAYWFGFUSMTYSQBNNYLKNAYGI\n",
        "YAYWFNZBGTGLZFUTIJWFALUTMYOVFSNNYTCWZDSBDWIGXJJKKSSAVJSITPEWSKRLCSLGWFNVUAH\n",
        "MVLYVYVWUIYAZFUYOVUCWWJWWSAFEWSBKWTWHXESSAJSBIKVKHWVPABLAYWAGFWAFJHKSBTAYWF\n",
        "NYVKCQCVVHTKZYOLYRNSKVIAHNUKZSKSFGFTMKZSHLCDOWHXSWSPUWZNIVJOYLUSPTBKUOXAZFU\n",
        "NAZFHMLNWZQPELVJFRJRFIFMHUHTCWSNZLWSHSGLFZZXAJYTZOSKZRSBPKZHMLLKIFSRJFFUXWA\n",
        "JUKKOSKJGUJAKABLHGGFYLILCYHBWWYMIGAYOVZCZZVXWSHCDMNOZLIUVEOVFAZUCSZZVSWLUST\n",
        "FYSWHYLIWLULUASSAKZOSLZLVJYFXHMLJWWILKWFRPEWRYVNSZQPKMDNUKZSHLCDOWHJLVJTFFY\n",
        "XVWLVJTZVRQLRYSXHIWFJJFJRJKKGVFCVOOQSVVIUAYWWWCZUHNTJXCWHGMFUVJWGZJYSGYOZKH\n",
        "MLTWZQHIOOXDVDZFKRHHJKZLGBHCDGBLIWZTVJWZDJFFGYYLUHJKRFRMHUDOYLCQPJLEHZFZKWF\n",
        "JKKZFTBXZCZANAHMHIGILOGDOXAVJKMPTZHMLUSAUUVKGTMKZSFADGGUOVJSMHUHFJCVFHJKWJC\n",
        "RORJRJUZFURVIWCALIABTUVGTYOVOOQSJOOXHGJCOLTLWTUTSIXLUTMFMRDGJJYAASLPGFKPIWD\n",
        "QHTWHMHKZOIIVWBKPCDSIBGSBITRVSYVIWGJTSDSYOVJSXAFXHMLTWZQHIAAFKVFCIVLTHYORLW\n",
        "HVLDRWLRVWQFUAGUSRUSYOVSHYOZKDTPELWSZVJHYOVUCWWJWOSKNSZQAYWKMVCWIUHJTSKVIWG\n",
        "TAYSHSVVQSHVLDRILKWQYHEQHMPEYGZZGAQNVLKOSKZFHMPJUOQJLDOYPFFWBHJFCYKVUSNCVVP\n",
        "DTVSBXVWSQWVNTOWPVSGNSPVWXSFVUJKKZSGYZUYXHEVVFCZFUHHIWTZSCQRJWFKWYLULVJIFVM\n",
        "FNRABXAKZSNUEWFBHCDWUYFHDJKZLWSAYSHUVJAHNVEOVNSVOWYOCAHYSVLFTBSDSNYVDONKKZS\n",
        "BOFDSXAIMQYBIWOXPKGFNNZFOQSPKHTVUZOAPEYDWVTMFJKDGFYHIKOSKRFRMHZJKNAYWJJYPHC\n",
        "XZZTZJWIWQFBKACSPGJSUHIWRFWCSGYLIUCZSUFCYLMWFDWFKGGLUAGYPEYINZYWRKYFEHMLFDR\n",
        "FUUOWYOKZWXPMWFDJRJSKBCDMBLELCALILVJUVOPWPTCKTYBOVJUZZOIMZFWXOVVWKLCLGFAZKT\n",
        "NLULVFARDZBHJJWLOKLVJDRDZIPUFCYWIWGJUKLVJZCAUMAVKHFWGWOWHEUSTMYSJNUXTSJUUAG\n",
        "YBITSIAYWFZISAGMVELVJMCGCWDRKDNJBWRZWNAHMAYWANULLSXATSFJPCGCPLUSFTBEVHWPLED\n",
        "MHELZDHEVGFPULCRFJWZKOVJSFACWOXAKZSSTPDOGVIZOXUFLPJLEABAHZFADUVPHXAVHKFZKGZ\n",
        "TVBXCWAYWPJHJLKMPTZVFKSWSSAYWQFBJWCKZFEIHONJSYJYWRSLJKTTYZZOIHKDSSNKZTNYDDM\n",
        "WLJGZALULCUBKAHYVUWOYOYSRNIVWBFICWHTTVWHBPKZWYHKLVJTFESSAKZSWLTGIQKYSJJIVWB\n",
        "SVUGIGAFXWYZWSHJILLWYHGHSFYVVHMHKLVJJISTYFRFWRHCZOIIVWBFSRJAJKRLHMLMACQLEUS\n",
        "TMDQDWLMACZZRFUJYRFRKVIWPTYVLCUYVKSSAZLGJSWABRFGJSXLELATVUAHNZZEDTZJAPQLKGR\n",
        "JZTJWGLFJHTPDSUNUVLVJKVWDYOVTZNZJXIQZVFGJVWJSQPVXKMPTZHMLRTGJUTWCKAYWRJAVKH\n",
        "JKTJSFALJSTJTSGNVEWRNUDQPTZFEWYKZVBTADSYJPKKOUWVSFFUTWRZYZFUYOVFWLOKSBIAYMG\n",
        "KVIGBJUZYVYHKDSFZKKWSJVAHXPELFTKLUHNVEABYVKZSMVLKSNZFMBISPSBIAISBVBZDZDZCWD\n",
        "YHPWGQLGLSALEOWYOKZSGBIVSSVWEIWKVJIUVEEMXVLDHMLJWQTUUSBIAYWHMPIVRFFGSGXLUSB\n",
        "IZKAZQTPLCWTVFHTYTSAJUFLCSJVSUFPEAPWLRLVJKRKOKYVWAFUKZSRVEKHJYZFHJYIGFMHUXZ\n",
        "JKKZSUYVEWXLJXCWLMWFNZYGIQKSWVTSUAHSVDGFJTPZOUWZFSXZNSGXBGJSRLKZSLBZDHTMDQR\n",
        "FYBVSJKUAGYBITSITVTIYSZLHQLJGAJMVOWSXLAFNLJZOIIVWBRHUWPZAKZSXLYSRGLVFFJHUAZ\n",
        "DHEKKJYVVSALESGJHIUVMHUTSJUZFGYPKMHJKSMHTMTGIWZVFCYOZFUBHJLCGLUAGHVMWFJKZDC\n",
        "TRVVIUVEEMKBKMFJMVDWHPKQOXZVUIWLUMDTUKZSKVLJHMKRQCKAYWOXZRKGNURLWTURHOWAPGT\n",
        "YOVHCQPTWQFTVNSWFLFSCWVUHJKCQWSAFLVJOFMGJHEVDWVTWSILUSUFPELCRHBWFNNFJCZZZFJ\n",
        "JZKAUFAZGBTMKZSUYVEWXLJKSHBIWVTDVNSWPELVJPEKQWBKSPNSZLMTMDQDQHTWCKJFFQJHCES\n",
        "SAZXSQAEGSRIRJFFZJESSANZOYLMWFYOVGTKPTWFXIRVSRLRUQTTGSBDAYWANUKZSNYJWOWJYLV\n",
        "JFCWTYUFFCTRFJQTYEWFZUVPDQVIWRFACWBLAYXCWAYWHMPIVCWMFMFYOKAAJAYWMILJUSSKVVW\n",
        "SAFLVJJVDZFYZIINCVJSIUFLWSHDMGHSVEMMLRJHGLRLQFSDDMFZKZOYVWGBJDYGGQBDTSWZZFW\n",
        "SUFUSSJVAKFSBWRYOVUSQSRJTWVDWBIAFWBIPWGZILUEMFYDKIUVEEMGVJGAFUUJCFTVVSFZZDM\n",
        "YVRFRKYFLVJWFDWHLNWFJAYGFTBXZZDZRLWXMZWRFUUHFJWRJSIAFVSUHILHMLXDSJHKEMMLRJH\n",
        "BHJLCTZKJCSNKGPJYVKHWHZFSIPSMFSLULCXHPATGBKGBJDFJRGFNSMTMKJWZTGZOSKKGFJUUWF\n",
        "IVLTZDZLJSYOVAFFZJMFFUTWCKTPYINSKDSXZEWGXNVFHQLDWBNZRARFACSGYHJLVJWRJHDHJUS\n",
        "SKVVHMLJLSUZZVSQPXZHYVYSJJHCDODLUQCZYJMGUPTACSZZOWXOPGIFSCZSFSKZOSKRDWYACWA\n",
        "TYVUCZYKWGDIPLVJIPWUJUKDSRLELVNZKZWXPJSJJYPOSQSTGBXAIMQYLUZCZZVABYOVJOGPUVS\n",
        "XPIWHTZRQGTTVLVNUXWOXPCQWXJRJQJSPCBJDNZOYPLLHJYVVOYHCDWRHPKODHEWLHLCDSSACQK\n",
        "JSCUCSZKJIHAVVVTBJWHMLJWKFSCKOWLPGILVZFULLELZJTVFHMLJWKFSCKOWLJGZNKCQDZAKGU\n",
        "JAYWFFUUZSWLKZFTBXZHMLDWFJWYJSSGPGTGYRNOIVZJOUWVVVJHMAZDDZLVFJRFSBOZUVNOVDR\n",
        "NUDQVFUUMDTUKZOYCVJMUVILWTUFXHMLSJWHRNGFPIVZWSKNZWHOJLCTKKZSHVIHGJVWLVJDZXS\n",
        "TMDQPTZFEPZADSMLVUKVNLCVOSKUWZNCVJAJMIGAYOVXOSNJGTYOVSFHOWASSKEGGTVEWFMHULV\n",
        "JYVNSWIVJOYPFFCKTPTZTDJKISRZFHTZZDSSJVLVFUZOOXHEKKJYVVPDHMGWHLWJCRDZLVNUKZS\n",
        "YVDTPDHTJMFAWAFXADMTKSVVOSKSJCPLEDWPLKZSXVSTWSNFXOHOZDRFUULVJUHMWHRCQGBLCDW\n",
        "SNZFHTVEWZTUXDCZKRFRHVELWSBFMGXJIWORBKLSWSPSBTTRDCZZRFRNUYMAFURZCBSROONSZFU\n",
        "XOIASPORDTTMYGFWVISBIORDTTMKJWZTGZGZJYSGRPXZHMHMWOWPJWBTUCQCZAFXVJSCUCSQFAB\n",
        "YSPXFTTKZSYOIGOYZFXHMLUSASLUABYOVAFFNFFMFUUGTYOVVSRVEKHMHKWLZSKABYOVVORURLW\n",
        "TUFXADVNFHMVLYVYZZLWXMFDZDAFKDJHBKKTVEABLPJLOLNVJSIAFLVJVGHCXPKWKFSCXCWVEWW\n",
        "SZKSBYAYWDFYKQIUVELVJZKSWWZIWAFPEWRRVKACSSVKGYOIGILOVPHWLDAHDVWLSWYFJOSKFXO\n",
        "BLZFHMLEWLYHUGNJUJLCZARJAXDVJSYVCDWSNRLHMLNSZQPKXSQSSGRNSPLVJJFJDXLRDFJHUQU\n",
        "WLRLZDKVUODLUSBIJCGHYLUOWYOXGFJZKGCILIWQYIVXCWLKZSJFVKCKAYWGULTLOYVIKIUVEAH\n",
        "XOVSRBPKZFJKVPHJUUWRRVLLVFUUKCQPKSFDLPWCKMZJSXHKLVJOZVSTBJTSFZKOVTZVUFFMKZO\n",
        "IZVVIHLUESNUKGAZYUWFFUUOVTZVABKVIEWSNMGWHLYSRHVEKWLUVVAJAFLVJORFURHEAVFKNSZ\n",
        "QLULVJTFFGYLIMDBPKZWSAYWHTTS\n",
        "\"\"\")"
      ]
    },
    {
      "cell_type": "code",
      "execution_count": 20,
      "metadata": {
        "id": "BhqWtwNy7KmI",
        "outputId": "b9dbf8f5-0efe-4c42-b469-55c54758eec0",
        "colab": {
          "base_uri": "https://localhost:8080/",
          "height": 452
        }
      },
      "outputs": [
        {
          "output_type": "display_data",
          "data": {
            "text/plain": [
              "<Figure size 640x480 with 1 Axes>"
            ],
            "image/png": "[encoded data removed]"
          },
          "metadata": {}
        }
      ],
      "source": [
        "# Let's try a key length equal to 1\n",
        "t = 1\n",
        "\n",
        "# sample with step t\n",
        "p = ct[0::1]\n",
        "\n",
        "plot_frequencies(p)"
      ]
    },
    {
      "cell_type": "markdown",
      "metadata": {
        "id": "3_7vcrZu7KmJ"
      },
      "source": [
        "That the entropy of the uniform distribution is\n",
        "$$\n",
        "    -\\sum_{i=0}^{25} \\frac{1}{26} \\log_2\\frac{1}{26} = \\log_2(26) = 4.7\n",
        "$$\n",
        "\n",
        "This is the maximum value of the Entropy\n",
        "\n",
        "The histogram with $t = 1$ is close to uniform."
      ]
    },
    {
      "cell_type": "code",
      "execution_count": 21,
      "metadata": {
        "id": "PAHLVQCz7KmJ",
        "outputId": "8e3c4f8a-5004-41ed-b1a3-e358da28cdf8",
        "colab": {
          "base_uri": "https://localhost:8080/",
          "height": 430
        }
      },
      "outputs": [
        {
          "output_type": "display_data",
          "data": {
            "text/plain": [
              "<Figure size 640x480 with 1 Axes>"
            ],
            "image/png": "[encoded data removed]"
          },
          "metadata": {}
        }
      ],
      "source": [
        "# We can test multiple key sizes\n",
        "e = []\n",
        "for t in range(1,10):\n",
        "    p = ct[0::t]\n",
        "    freq = collections.Counter(p)\n",
        "    e.append(entropy(freq.values()))\n",
        "plt.bar(range(1,10),e)\n",
        "plt.show()"
      ]
    },
    {
      "cell_type": "code",
      "execution_count": 22,
      "metadata": {
        "id": "opjhnOnb7KmK",
        "outputId": "00bcf6b1-f3f3-4da9-9705-6a940de03609",
        "colab": {
          "base_uri": "https://localhost:8080/",
          "height": 452
        }
      },
      "outputs": [
        {
          "output_type": "display_data",
          "data": {
            "text/plain": [
              "<Figure size 640x480 with 1 Axes>"
            ],
            "image/png": "[encoded data removed]"
          },
          "metadata": {}
        }
      ],
      "source": [
        "# Probably the key size is 5\n",
        "t = 5\n",
        "\n",
        "p = ct[0::t]\n",
        "\n",
        "plot_frequencies(p)"
      ]
    },
    {
      "cell_type": "code",
      "execution_count": 23,
      "metadata": {
        "id": "HpBs1vuz7KmL",
        "outputId": "dfd799c2-429c-4383-f957-182ffb641125",
        "colab": {
          "base_uri": "https://localhost:8080/"
        }
      },
      "outputs": [
        {
          "output_type": "execute_result",
          "data": {
            "text/plain": [
              "5"
            ]
          },
          "metadata": {},
          "execution_count": 23
        }
      ],
      "source": [
        "# The most common letter in the ciphertext (J) could be the letter E in the plaintext\n",
        "# The key would be\n",
        "ord(\"J\")-ord(\"E\")"
      ]
    },
    {
      "cell_type": "code",
      "execution_count": 24,
      "metadata": {
        "id": "ujZjiCUf7KmL",
        "outputId": "e1a53f0e-9982-41cc-ca86-a2c80de97e04",
        "colab": {
          "base_uri": "https://localhost:8080/",
          "height": 122
        }
      },
      "outputs": [
        {
          "output_type": "execute_result",
          "data": {
            "text/plain": [
              "'THEBLACKCATBYEDGARALLANPOEFORTHEMOSTWILDYETMOSTHOMELYNARRATIVEWHICHIAMABOUTTOPENINEITHEREXPECTNORSOLICITBELIEFMADINDEEDWOULDIBETOEXPECTITINACASEWHEREMYVERYSENSESREJECTTHEIROWNEVIDENCEYETMADAMINOTANDVERYSURELYDOINOTDREAMBUTTOMORROWIDIEANDTODAYIWOULDUNBURTHENMYSOULMYIMMEDIATEPURPOSEISTOPLACEBEFORETHEWORLDPLAINLYSUCCINCTLYANDWITHOUTCOMMENTASERIESOFMEREHOUSEHOLDEVENTSINTHEIRCONSEQUENCESTHESEEVENTSHAVETERRIFIEDHAVETORTUREDHAVEDESTROYEDMEYETIWILLNOTATTEMPTTOEXPOUNDTHEMTOMETHEYHAVEPRESENTEDLITTLEBUTHORRORTOMANYTHEYWILLSEEMLESSTERRIBLETHANBAROQUESHEREAFTERPERHAPSSOMEINTELLECTMAYBEFOUNDWHICHWILLREDUCEMYPHANTASMTOTHECOMMONPLACESOMEINTELLECTMORECALMMORELOGICALANDFARLESSEXCITABLETHANMYOWNWHICHWILLPERCEIVEINTHECIRCUMSTANCESIDETAILWITHAWENOTHINGMORETHANANORDINARYSUCCESSIONOFVERYNATURALCAUSESANDEFFECTSFROMMYINFANCYIWASNOTEDFORTHEDOCILITYANDHUMANITYOFMYDISPOSITIONMYTENDERNESSOFHEARTWASEVENSOCONSPICUOUSASTOMAKEMETHEJESTOFMYCOMPANIONSIWASESPECIALLYFONDOFANIMALSANDWASINDULGEDBYMYPARENTSWITHAGREATVARIETYOFPETSWITHTHESEISPENTMOSTOFMYTIMEANDNEVERWASSOHAPPYASWHENFEEDINGANDCARESSINGTHEMTHISPECULIAROFCHARACTERGREWWITHMYGROWTHANDINMYMANHOODIDERIVEDFROMITONEOFMYPRINCIPALSOURCESOFPLEASURETOTHOSEWHOHAVECHERISHEDANAFFECTIONFORAFAITHFULANDSAGACIOUSDOGINEEDHARDLYBEATTHETROUBLEOFEXPLAININGTHENATUREORTHEINTENSITYOFTHEGRATIFICATIONTHUSDERIVABLETHEREISSOMETHINGINTHEUNSELFISHANDSELFSACRIFICINGLOVEOFABRUTEWHICHGOESDIRECTLYTOTHEHEARTOFHIMWHOHASHADFREQUENTOCCASIONTOTESTTHEPALTRYFRIENDSHIPANDGOSSAMERFIDELITYOFMEREMANIMARRIEDEARLYANDWASHAPPYTOFINDINMYWIFEADISPOSITIONNOTUNCONGENIALWITHMYOWNOBSERVINGMYPARTIALITYFORDOMESTICPETSSHELOSTNOOPPORTUNITYOFPROCURINGTHOSEOFTHEMOSTAGREEABLEKINDWEHADBIRDSGOLDFISHAFINEDOGRABBITSASMALLMONKEYANDACATTHISLATTERWASAREMARKABLYLARGEANDBEAUTIFULANIMALENTIRELYBLACKANDSAGACIOUSTOANASTONISHINGDEGREEINSPEAKINGOFHISINTELLIGENCEMYWIFEWHOATHEARTWASNOTALITTLETINCTUREDWITHSUPERSTITIONMADEFREQUENTALLUSIONTOTHEANCIENTPOPULARNOTIONWHICHREGARDEDALLBLACKCATSASWITCHESINDISGUISENOTTHATSHEWASEVERSERIOUSUPONTHISPOINTANDIMENTIONTHEMATTERATALLFORNOBETTERREASONTHANTHATITHAPPENSJUSTNOWTOBEREMEMBEREDPLUTOTHISWASTHECATSNAMEWASMYFAVORITEPETANDPLAYMATEIALONEFEDHIMANDHEATTENDEDMEWHEREVERIWENTABOUTTHEHOUSEITWASEVENWITHDIFFICULTYTHATICOULDPREVENTHIMFROMFOLLOWINGMETHROUGHTHESTREETSOURFRIENDSHIPLASTEDINTHISMANNERFORSEVERALYEARSDURINGWHICHMYGENERALTEMPERAMENTANDCHARACTERTHROUGHTHEINSTRUMENTALITYOFTHEFIENDINTEMPERANCEHADIBLUSHTOCONFESSITEXPERIENCEDARADICALALTERATIONFORTHEWORSEIGREWDAYBYDAYMOREMOODYMOREIRRITABLEMOREREGARDLESSOFTHEFEELINGSOFOTHERSISUFFEREDMYSELFTOUSEINTEMPERATELANGUAGETOMYATLENGTHIEVENOFFEREDHERPERSONALVIOLENCEMYPETSOFCOURSEWEREMADETOFEELTHECHANGEINMYDISPOSITIONINOTONLYNEGLECTEDBUTILLUSEDTHEMFORPLUTOHOWEVERISTILLRETAINEDSUFFICIENTREGARDTORESTRAINMEFROMMALTREATINGHIMASIMADENOSCRUPLEOFMALTREATINGTHERABBITSTHEMONKEYOREVENTHEDOGWHENBYACCIDENTORTHROUGHAFFECTIONTHEYCAMEINMYWAYBUTMYDISEASEGREWUPONMEFORWHATDISEASEISLIKEALCOHOLANDATLENGTHEVENPLUTOWHOWASNOWBECOMINGOLDANDCONSEQUENTLYSOMEWHATPEEVISHEVENPLUTOBEGANTOEXPERIENCETHEEFFECTSOFMYILLTEMPERONENIGHTRETURNINGHOMEMUCHINTOXICATEDFROMONEOFMYHAUNTSABOUTTOWNIFANCIEDTHATTHECATAVOIDEDMYPRESENCEISEIZEDHIMWHENINHISFRIGHTATMYVIOLENCEHEINFLICTEDASLIGHTWOUNDUPONMYHANDWITHHISTEETHTHEFURYOFADEMONINSTANTLYPOSSESSEDMEIKNEWMYSELFNOLONGERMYORIGINALSOULSEEMEDATONCETOTAKEITSFLIGHTFROMMYBODYANDAMORETHANFIENDISHMALEVOLENCEGINNURTUREDTHRILLEDEVERYFIBREOFMYFRAMEITOOKFROMMYWAISTCOATPOCKETAPENKNIFEOPENEDITGRASPEDTHEPOORBEASTBYTHETHROATANDDELIBERATELYCUTONEOFITSEYESFROMTHESOCKETIBLUSHIBURNISHUDDERWHILEIPENTHEDAMNABLEATROCITYWHENREASONRETURNEDWITHTHEMORNINGWHENIHADSLEPTOFFTHEFUMESOFTHENIGHTSDEBAUCHIEXPERIENCEDASENTIMENTHALFOFHORRORHALFOFREMORSEFORTHECRIMEOFWHICHIHADBEENGUILTYBUTITWASATBESTAFEEBLEANDEQUIVOCALFEELINGANDTHESOULREMAINEDUNTOUCHEDIAGAINPLUNGEDINTOEXCESSANDSOONDROWNEDINWINEALLMEMORYOFTHEDEEDINTHEMEANTIMETHECATSLOWLYRECOVEREDTHESOCKETOFTHELOSTEYEPRESENTEDITISTRUEAFRIGHTFULAPPEARANCEBUTHENOLONGERAPPEAREDTOSUFFERANYPAINHEWENTABOUTTHEHOUSEASUSUALBUTASMIGHTBEEXPECTEDFLEDINEXTREMETERRORATMYAPPROACHIHADSOMUCHOFMYOLDHEARTLEFTASTOBEATFIRSTGRIEVEDBYTHISEVIDENTDISLIKEONTHEPARTOFACREATUREWHICHHADONCESOLOVEDMEBUTTHISFEELINGSOONGAVEPLACETOIRRITATIONANDTHENCAMEASIFTOMYFINALANDIRREVOCABLEOVERTHROWTHESPIRITOFPERVERSENESSOFTHISSPIRITPHILOSOPHYTAKESNOACCOUNTYETIAMNOTMORESURETHATMYSOULLIVESTHANIAMTHATPERVERSENESSISONEOFTHEPRIMITIVEIMPULSESOFTHEHUMANHEARTONEOFTHEINDIVISIBLEPRIMARYFACULTIESORSENTIMENTSWHICHGIVEDIRECTIONTOTHECHARACTEROFMANWHOHASNOTAHUNDREDTIMESFOUNDHIMSELFCOMMITTINGAVILEORASILLYACTIONFORNOOTHERREASONTHANBECAUSEHEKNOWSHESHOULDNOTHAVEWENOTAPERPETUALINCLINATIONINTHETEETHOFOURBESTJUDGMENTTOVIOLATETHATWHICHISLAWMERELYBECAUSEWEUNDERSTANDITTOBESUCHTHISSPIRITOFPERVERSENESSISAYCAMETOMYFINALOVERTHROWITWASTHISUNFATHOMABLELONGINGOFTHESOULTOVEXITSELFTOOFFERVIOLENCETOITSOWNNATURETODOWRONGFORTHEWRONGSSAKEONLYTHATURGEDMETOCONTINUEANDFINALLYTOCONSUMMATETHEINJURYIHADINFLICTEDUPONTHEUNOFFENDINGBRUTEONEMORNINGINCOOLBLOODISLIPPEDANOOSEABOUTITSNECKANDHUNGITTOTHELIMBOFATREEHUNGITWITHTHETEARSSTREAMINGFROMMYEYESANDWITHTHEBITTERESTREMORSEATMYHEARTHUNGITBECAUSEIKNEWTHATITHADLOVEDMEANDBECAUSEIFELTITHADGIVENMENOREASONOFOFFENCEHUNGITBECAUSEIKNEWTHATINSODOINGIWASCOMMITTINGASINADEADLYSINTHATWOULDSOJEOPARDIZEMYIMMORTALSOULASTOPLACEITIFSUCHATHINGWEREPOSSIBLEEVENBEYONDTHEREACHOFTHEINFINITEMERCYOFTHEMOSTMERCIFULANDMOSTTERRIBLEGODONTHENIGHTOFTHEDAYONWHICHTHISCRUELDEEDWASDONEIWASAROUSEDFROMSLEEPBYTHECRYOFFIRETHECURTAINSOFMYBEDWEREINFLAMESTHEWHOLEHOUSEWASBLAZINGITWASWITHGREATDIFFICULTYTHATMYWIFEASERVANTANDMYSELFMADEOURESCAPEFROMTHECONFLAGRATIONTHEDESTRUCTIONWASCOMPLETEMYENTIREWORLDLYWEALTHWASSWALLOWEDUPANDIRESIGNEDMYSELFTHENCEFORWARDTODESPAIRIAMABOVETHEWEAKNESSOFSEEKINGTOESTABLISHASEQUENCEOFCAUSEANDEFFECTBETWEENTHEDISASTERANDTHEATROCITYBUTIAMDETAILINGACHAINOFFACTSANDWISHNOTTOLEAVEEVENAPOSSIBLELINKIMPERFECTONTHEDAYSUCCEEDINGTHEFIREIVISITEDTHERUINSTHEWALLSWITHONEEXCEPTIONHADFALLENINTHISEXCEPTIONWASFOUNDINACOMPARTMENTWALLNOTVERYTHICKWHICHSTOODABOUTTHEMIDDLEOFTHEHOUSEANDAGAINSTWHICHHADRESTEDTHEHEADOFMYBEDTHEPLASTERINGHADHEREINGREATMEASURERESISTEDTHEACTIONOFTHEFIREAFACTWHICHIATTRIBUTEDTOITSHAVINGBEENRECENTLYSPREADABOUTTHISWALLADENSECROWDWERECOLLECTEDANDMANYPERSONSSEEMEDTOBEEXAMININGAPARTICULARPORTIONOFITWITHEVERYMINUTEANDEAGERATTENTIONTHEWORDSSTRANGESINGULARANDOTHERSIMILAREXPRESSIONSEXCITEDMYCURIOSITYIAPPROACHEDANDSAWASIFGRAVENINBASRELIEFUPONTHEWHITESURFACETHEFIGUREOFAGIGANTICCATTHEIMPRESSIONWASGIVENWITHANACCURACYTRULYMARVELLOUSTHEREWASAROPEABOUTTHEANIMALSNECKWHENIFIRSTBEHELDTHISAPPARITIONFORICOULDSCARCELYREGARDITASLESSMYWONDERANDMYTERRORWEREEXTREMEBUTATLENGTHREFLECTIONCAMETOMYAIDTHECATIREMEMBEREDHADBEENHUNGINAGARDENADJACENTTOTHEHOUSEUPONTHEALARMOFFIRETHISGARDENHADBEENIMMEDIATELYFILLEDBYTHECROWDBYSOMEONEOFWHOMTHEANIMALMUSTHAVEBEENCUTFROMTHETREEANDTHROWNTHROUGHANOPENWINDOWINTOMYCHAMBERTHISHADPROBABLYBEENDONEWITHTHEVIEWOFAROUSINGMEFROMSLEEPTHEFALLINGOFOTHERWALLSHADCOMPRESSEDTHEVICTIMOFMYCRUELTYINTOTHESUBSTANCEOFTHEFRESHLYSPREADPLASTERTHELIMEOFWHICHHADTHENWITHTHEFLAMESANDTHEAMMONIAFROMTHECARCASSACCOMPLISHEDTHEPORTRAITUREASISAWITALTHOUGHITHUSREADILYACCOUNTEDTOMYREASONIFNOTALTOGETHERTOMYCONSCIENCEFORTHESTARTLINGFACTJUSTDETAILEDITDIDNOTTHELESSFALLTOMAKEADEEPIMPRESSIONUPONMYFANCYFORMONTHSICOULDNOTRIDMYSELFOFTHEPHANTASMOFTHECATANDDURINGTHISPERIODTHERECAMEBACKINTOMYSPIRITAHALFSENTIMENTTHATSEEMEDBUTWASNOTREMORSEIWENTSOFARASTOREGRETTHELOSSOFTHEANIMALANDTOLOOKABOUTMEAMONGTHEVILEHAUNTSWHICHINOWHABITUALLYFREQUENTEDFORANOTHERPETOFTHESAMESPECIESANDOFSOMEWHATSIMILARAPPEARANCEWITHWHICHTOSUPPLYITSPLACEONENIGHTASISATHALFSTUPEFIEDINADENOFMORETHANINFAMYMYATTENTIONWASSUDDENLYDRAWNTOSOMEBLACKOBJECTREPOSINGUPONTHEHEADOFONEOFTHEIMMENSEHOGSHEADSOFGINOROFRUMWHICHCONSTITUTEDTHECHIEFFURNITUREOFTHEAPARTMENTIHADBEENLOOKINGSTEADILYATTHETOPOFTHISHOGSHEADFORSOMEMINUTESANDWHATNOWCAUSEDMESURPRISEWASTHEFACTTHATIHADNOTSOONERPERCEIVEDTHEOBJECTTHEREUPONIAPPROACHEDITANDTOUCHEDITWITHMYHANDITWASABLACKCATAVERYLARGEONEFULLYASLARGEASPLUTOANDCLOSELYRESEMBLINGHIMINEVERYRESPECTBUTONEPLUTOHADNOTAWHITEHAIRUPONANYPORTIONOFHISBODYBUTTHISCATHADALARGEALTHOUGHINDEFINITESPLOTCHOFWHITECOVERINGNEARLYTHEWHOLEREGIONOFTHEBREASTUPONMYTOUCHINGHIMHEIMMEDIATELYAROSEPURREDLOUDLYRUBBEDAGAINSTMYHANDANDAPPEAREDDELIGHTEDWITHMYNOTICETHISTHENWASTHEVERYCREATUREOFWHICHIWASINSEARCHIATONCEOFFEREDTOPURCHASEITOFTHELANDLORDBUTTHISPERSONMADENOCLAIMTOITKNEWNOTHINGOFITHADNEVERSEENITBEFOREICONTINUEDMYCARESSESANDWHENIPREPAREDTOGOHOMETHEANIMALEVINCEDADISPOSITIONTOACCOMPANYMEIPERMITTEDITTODOSOOCCASIONALLYSTOOPINGANDPATTINGITASIPROCEEDEDWHENITREACHEDTHEHOUSEITDOMESTICATEDITSELFATONCEANDBECAMEIMMEDIATELYAGREATFAVORITEWITHMYWIFEFORMYOWNPARTISOONFOUNDADISLIKETOITARISINGWITHINMETHISWASJUSTTHEREVERSEOFWHATIHADANTICIPATEDBUTIKNOWNOTHOWORWHYITWASITSEVIDENTFONDNESSFORMYSELFRATHERDISGUSTEDANDANNOYEDBYSLOWDEGREESTHESEFEELINGSOFDISGUSTANDANNOYANCEROSEINTOTHEBITTERNESSOFHATREDIAVOIDEDTHECREATUREACERTAINSENSEOFSHAMEANDTHEREMEMBRANCEOFMYFORMERDEEDOFCRUELTYPREVENTINGMEFROMPHYSICALLYABUSINGITIDIDNOTFORSOMEWEEKSSTRIKEOROTHERWISEVIOLENTLYILLUSEITBUTGRADUALLYVERYGRADUALLYICAMETOLOOKUPONITWITHUNUTTERABLELOATHINGANDTOFLEESILENTLYFROMITSODIOUSPRESENCEASFROMTHEBREATHOFAPESTILENCEWHATADDEDNODOUBTTOMYHATREDOFTHEBEASTWASTHEDISCOVERYONTHEMORNINGAFTERIBROUGHTITHOMETHATLIKEPLUTOITALSOHADBEENDEPRIVEDOFONEOFITSEYESTHISCIRCUMSTANCEHOWEVERONLYENDEAREDITTOMYWIFEWHOASIHAVEALREADYSAIDPOSSESSEDINAHIGHDEGREETHATHUMANITYOFFEELINGWHICHHADONCEBEENMYDISTINGUISHINGTRAITANDTHESOURCEOFMANYOFMYSIMPLESTANDPURESTPLEASURESWITHMYAVERSIONTOTHISCATHOWEVERITSPARTIALITYFORMYSELFSEEMEDTOINCREASEITFOLLOWEDMYFOOTSTEPSWITHAPERTINACITYWHICHITWOULDBEDIFFICULTTOMAKETHEREADERCOMPREHENDWHENEVERISATITWOULDCROUCHBENEATHMYCHAIRORSPRINGUPONMYKNEESCOVERINGMEWITHITSLOATHSOMECARESSESIFIAROSETOWALKITWOULDGETBETWEENMYFEETANDTHUSNEARLYTHROWMEDOWNORFASTENINGITSLONGANDSHARPCLAWSINMYDRESSCLAMBERINTHISMANNERTOMYBREASTATSUCHTIMESALTHOUGHILONGEDTODESTROYITWITHABLOWIWASYETWITHHELDFROMSODOINGPARTLYITATBYAMEMORYOFMYFORMERCRIMEBUTCHIEFLYLETMECONFESSITATONCEBYABSOLUTEDREADOFTHEBEASTTHISDREADWASNOTEXACTLYADREADOFPHYSICALEVILANDYETISHOULDBEATALOSSHOWOTHERWISETODEFINEITIAMALMOSTASHAMEDTOOWNYESEVENINTHISFELONSCELLIAMALMOSTASHAMEDTOOWNTHATTHETERRORANDHORRORWITHWHICHTHEANIMALINSPIREDMEHADBEENHEIGHTENEDBYONEOFTHEMERESTCHIMAERASITWOULDBEPOSSIBLETOCONCEIVEMYWIFEHADCALLEDMYATTENTIONMORETHANONCETOTHECHARACTEROFTHEMARKOFWHITEHAIROFWHICHIHAVESPOKENANDWHICHCONSTITUTEDTHESOLEVISIBLEDIFFERENCEBETWEENTHESTRANGEBEASTANDTHEONEIHADYSIDESTROYEDTHEREADERWILLREMEMBERTHATTHISMARKALTHOUGHLARGEHADBEENORIGINALLYVERYINDEFINITEBUTBYSLOWDEGREESDEGREESNEARLYIMPERCEPTIBLEANDWHICHFORALONGTIMEMYREASONSTRUGGLEDTOREJECTASFANCIFULITHADATLENGTHASSUMEDARIGOROUSDISTINCTNESSOFOUTLINEITWASNOWTHEREPRESENTATIONOFANOBJECTTHATISHUDDERTONAMEANDFORTHISABOVEALLILOATHEDANDDREADEDANDWOULDHAVERIDMYSELFOFTHEMONSTERHADIDAREDITWASNOWISAYTHEIMAGEOFAHIDEOUSOFAGHASTLYTHINGOFTHEGALLOWSOHMOURNFULANDTERRIBLEENGINEOFHORRORANDOFCRIMEOFAGONYANDOFDEATHANDNOWWASIINDEEDWRETCHEDBEYONDTHEWRETCHEDNESSOFMEREHUMANITYANDABRUTEBEASTWHOSEFELLOWIHADCONTEMPTUOUSLYDESTROYEDABRUTEBEASTTOWORKOUTFORMEFORMEAMANFASHIONEDINTHEIMAGEOFTHEHIGHGODSOMUCHOFINSUFFERABLEWOALASNEITHERBYDAYNORBYNIGHTKNEWITHEBLESSINGOFRESTANYMOREDURINGTHEFORMERTHECREATURELEFTMENOMOMENTALONEANDINTHELATTERISTARTEDHOURLYFROMDREAMSOFUNUTTERABLEFEARTOFINDTHEHOTBREATHOFTHETHINGUPONMYFACEANDITSVASTWEIGHTANINCARNATENIGHTMARETHATIHADNOPOWERTOSHAKEOFFINCUMBENTETERNALLYUPONMYHEARTBENEATHTHEPRESSUREOFTORMENTSSUCHASTHESETHEFEEBLEREMNANTOFTHEGOODWITHINMESUCCUMBEDEVILTHOUGHTSBECAMEMYSOLEINTIMATESTHEDARKESTANDMOSTEVILOFTHOUGHTSTHEMOODINESSOFMYUSUALTEMPERINCREASEDTOHATREDOFALLTHINGSANDOFALLMANKINDWHILEFROMTHESUDDENFREQUENTANDUNGOVERNABLEOUTBURSTSOFAFURYTOWHICHINOWBLINDLYABANDONEDMYSELFMYUNCOMPLAININGWIFEALASWASTHEMOSTUSUALANDTHEMOSTPATIENTOFSUFFERERSONEDAYSHEACCOMPANIEDMEUPONSOMEHOUSEHOLDERRANDINTOTHECELLAROFTHEOLDBUILDINGWHICHOURPOVERTYCOMPELLEDUSTOINHABITTHECATFOLLOWEDMEDOWNTHESTEEPSTAIRSANDNEARLYTHROWINGMEHEADLONGEXASPERATEDMETOMADNESSUPLIFTINGANAXEANDFORGETTINGINMYWRATHTHECHILDISHDREADWHICHHADHITHERTOSTAYEDMYHANDIAIMEDABLOWATTHEANIMALWHICHOFCOURSEWOULDHAVEPROVEDINSTANTLYFATALHADITDESCENDEDASIWISHEDBUTTHISBLOWWASARRESTEDBYTHEHANDOFMYWIFEGOADEDBYTHEINTERFERENCEINTOARAGEMORETHANDEMONIACALIWITHDREWMYARMFROMHERGRASPANDBURIEDTHEAXEINHERBRAINSHEFELLDEADUPONTHESPOTWITHOUTAGROANTHISHIDEOUSMURDERACCOMPLISHEDISETMYSELFFORTHWITHANDWITHENTIREDELIBERATIONTOTHETASKOFCONCEALINGTHEBODYIKNEWTHATICOULDNOTREMOVEITFROMTHEHOUSEEITHERBYDAYORBYNIGHTWITHOUTTHERISKOFBEINGOBSERVEDBYTHENEIGHBORSMANYPROJECTSENTEREDMYMINDATONEPERIODITHOUGHTOFCUTTINGTHECORPSEINTOMINUTEFRAGMENTSANDDESTROYINGTHEMBYFIREATANOTHERIRESOLVEDTODIGAGRAVEFORITINTHEFLOOROFTHECELLARAGAINIDELIBERATEDABOUTCASTINGITINTHEWELLINTHEYARDABOUTPACKINGITINABOXASIFMERCHANDIZEWITHTHEUSUALARRANGEMENTSANDSOGETTINGAPORTERTOTAKEITFROMTHEHOUSEFINALLYIHITUPONWHATICONSIDEREDAFARBETTEREXPEDIENTTHANEITHEROFTHESEIDETERMINEDTOWALLITUPINTHECELLARASTHEMONKSOFTHEMIDDLEAGESARERECORDEDTOHAVEWALLEDUPTHEIRVICTIMSFORAPURPOSESUCHASTHISTHECELLARWASWELLADAPTEDITSWALLSWERELOOSELYCONSTRUCTEDANDHADLATELYBEENPLASTEREDTHROUGHOUTWITHAROUGHPLASTERWHICHTHEDAMPNESSOFTHEATMOSPHEREHADPREVENTEDFROMHARDENINGMOREOVERINONEOFTHEWALLSWASAPROJECTIONCAUSEDBYAFALSECHIMNEYORFIREPLACETHATHADBEENFILLEDUPANDMADETORESEMBLETHERESTOFTHECELLARIMADENODOUBTTHATICOULDREADILYDISPLACETHEATTHISPOINTINSERTTHECORPSEANDWALLTHEWHOLEUPASBEFORESOTHATNOEYECOULDDETECTANYTHINGSUSPICIOUSANDINTHISCALCULATIONIWASNOTDECEIVEDBYMEANSOFACROWBARIEASILYDISLODGEDTHEBRICKSANDHAVINGCAREFULLYDEPOSITEDTHEBODYAGAINSTTHEINNERWALLIPROPPEDITINTHATPOSITIONWHILEWITHLITTLETROUBLEIRELAIDTHEWHOLESTRUCTUREASITORIGINALLYSTOODHAVINGPROCUREDMORTARSANDANDHAIRWITHEVERYPOSSIBLEPRECAUTIONIPREPAREDAPLASTERCOULDNOTEVERYPOSSBEDISTINGUISHEDFROMTHEOLDANDWITHTHISIVERYCAREFULLYWENTOVERTHENEWBRICKWORKWHENIHADFINISHEDIFELTSATISFIEDTHATALLWASRIGHTTHEWALLDIDNOTPRESENTTHESLIGHTESTAPPEARANCEOFHAVINGBEENDISTURBEDTHERUBBISHONTHEFLOORWASPICKEDUPWITHTHEMINUTESTCAREILOOKEDAROUNDTRIUMPHANTLYANDSAIDTOMYSELFHEREATLEASTTHENMYLABORHASNOTBEENINVAINMYNEXTSTEPWASTOLOOKFORTHEBEASTWHICHHADBEENTHECAUSEOFSOMUCHWRETCHEDNESSFORIHADATLENGTHFIRMLYRESOLVEDTOPUTITTODEATHHADIBEENABLETOMEETWITHITATTHEMOMENTTHERECOULDHAVEBEENNODOUBTOFITSFATEBUTITAPPEAREDTHATTHECRAFTYANIMALHADBEENALARMEDATTHEVIOLENCEOFMYPREVIOUSANGERANDFOREBORETOPRESENTITSELFINMYPRESENTMOODITISIMPOSSIBLETODESCRIBEORTOIMAGINETHEDEEPTHEBLISSFULSENSEOFRELIEFWHICHTHEABSENCEOFTHEDETESTEDCREATUREOCCASIONEDINMYBOSOMITDIDNOTMAKEITSAPPEARANCEDURINGTHENIGHTANDTHUSFORONENIGHTATLEASTSINCEITSINTRODUCTIONINTOTHEHOUSEISOUNDLYANDTRANQUILLYSLEPTAYESLEPTEVENWITHTHEBURDENOFMURDERUPONMYSOULTHESECONDANDTHETHIRDDAYPASSEDANDSTILLMYTORMENTORCAMENOTONCEAGAINIBREATHEDASAFREEMANTHEMONSTERINTERRORHADFLEDTHEPREMISESFOREVERISHOULDBEHOLDITNOMOREMYHAPPINESSWASSUPREMETHEGUILTOFMYDARKDEEDDISTURBEDMEBUTLITTLESOMEFEWINQUIRIESHADBEENMADEBUTTHESEHADBEENREADILYANSWEREDEVENASEARCHHADBEENINSTITUTEDBUTOFCOURSENOTHINGWASTOBEDISCOVEREDILOOKEDUPONMYFUTUREFELICITYASSECUREDUPONTHEFOURTHDAYOFTHEASSASSINATIONAPARTYOFTHEPOLICECAMEVERYUNEXPECTEDLYINTOTHEHOUSEANDPROCEEDEDAGAINTOMAKERIGOROUSINVESTIGATIONOFTHEPREMISESSECUREHOWEVERINTHEINSCRUTABILITYOFMYPLACEOFCONCEALMENTIFELTNOEMBARRASSMENTWHATEVERTHEOFFICERSBADEMEACCOMPANYTHEMINTHEIRSEARCHTHEYLEFTNONOOKORCORNERUNEXPLOREDATLENGTHFORTHETHIRDORFOURTHTIMETHEYDESCENDEDINTOTHECELLARIQUIVEREDNOTINAMUSCLEMYHEARTBEATCALMLYASTHATOFONEWHOSLUMBERSININNOCENCEIWALKEDTHECELLARFROMENDTOENDIFOLDEDMYARMSUPONMYBOSOMANDROAMEDEASILYTOANDFROTHEPOLICEWERETHOROUGHLYSATISFIEDANDPREPAREDTODEPARTTHEGLEEATMYHEARTWASTOOSTRONGTOBERESTRAINEDIBURNEDTOSAYIFBUTONEWORDBYWAYOFTRIUMPHANDTORENDERDOUBLYSURETHEIRASSURANCEOFMYGUILTLESSNESSGENTLEMENISAIDATLASTASTHEPARTYASCENDEDTHESTEPSIDELIGHTTOHAVEALLAYEDYOURSUSPICIONSIWISHYOUALLHEALTHANDALITTLEMORECOURTESYBYTHEBYEGENTLEMENTHISTHISISAVERYWELLCONSTRUCTEDHOUSEINTHERABIDDESIRETOSAYSOMETHINGEASILYISCARCELYKNEWWHATIUTTEREDATALLIMAYSAYANEXCELLENTLYWELLCONSTRUCTEDHOUSETHESEWALLSAREYOUGOINGGENTLEMENTHESEWALLSARESOLIDLYPUTTOGETHERANDHERETHROUGHTHEMEREPHRENZYOFBRAVADOIRAPPEDHEAVILYWITHACANEWHICHIHELDINMYHANDUPONTHATVERYPORTIONOFTHEBRICKWORKBEHINDWHICHSTOODTHECORPSEOFTHEWIFEOFMYBOSOMBUTMAYGODSHIELDANDDELIVERMEFROMTHEFANGSOFTHEARCHFIENDNOSOONERHADTHEREVERBERATIONOFMYBLOWSSUNKINTOSILENCETHANIWASANSWEREDBYAVOICEFROMWITHINTHETOMBBYACRYATFIRSTMUFFLEDANDBROKENLIKETHESOBBINGOFACHILDANDTHENQUICKLYSWELLINGINTOONELONGLOUDANDCONTINUOUSSCREAMUTTERLYANOMALOUSANDINHUMANAHOWLAWAILINGSHRIEKHALFOFHORRORANDHALFOFTRIUMPHSUCHASMIGHTHAVEARISENONLYOUTOFHELLCONJOINTLYFROMTHETHROATSOFTHEDAMNEDINTHEIRAGONYANDOFTHEDEMONSTHATEXULTINTHEDAMNATIONOFMYOWNTHOUGHTSITISFOLLYTOSPEAKSWOONINGISTAGGEREDTOTHEOPPOSITEWALLFORONEINSTANTTHEPARTYUPONTHESTAIRSREMAINEDMOTIONLESSTHROUGHEXTREMITYOFTERRORANDOFAWEINTHENEXTADOZENSTOUTARMSWERETOLLINGATTHEWALLITFELLBODILYTHECORPSEALREADYGREATLYDECAYEDANDCLOTTEDWITHGORESTOODERECTBEFORETHEEYESOFTHESPECTATORSUPONITSHEADWITHREDEXTENDEDMOUTHANDSOLITARYEYEOFFIRESATTHEHIDEOUSBEASTWHOSECRAFTHADSEDUCEDMEINTOMURDERANDWHOSEINFORMINGVOICEHADCONSIGNEDMETOTHEHANGMANIHADWALLEDTHEMONSTERUPWITHINTHETOMB'"
            ],
            "application/vnd.google.colaboratory.intrinsic+json": {
              "type": "string"
            }
          },
          "metadata": {},
          "execution_count": 24
        }
      ],
      "source": [
        "# repeating for all the letters we find the key \"FHRSO\"\n",
        "decipher_vigenere(ct,\"FHRSO\")"
      ]
    },
    {
      "cell_type": "code",
      "execution_count": 25,
      "metadata": {
        "id": "uNHrciFd7KmM"
      },
      "outputs": [],
      "source": [
        "# compare to the original plaintext\n",
        "m = \"\"\"\n",
        "THE BLACK CAT\n",
        "\n",
        "                             by Edgar Allan Poe\n",
        "                                   (1843)\n",
        "\n",
        "   FOR the most wild, yet most homely narrative which I am about to pen, I\n",
        "neither expect nor solicit belief. Mad indeed would I be to expect it, in a\n",
        "case where my very senses reject their own evidence. Yet, mad am I not --and\n",
        "very surely do I not dream. But to-morrow I die, and to-day I would\n",
        "unburthen my soul. My immediate purpose is to place before the world,\n",
        "plainly, succinctly, and without comment, a series of mere household events.\n",
        "In their consequences, these events have terrified --have tortured --have\n",
        "destroyed me. Yet I will not attempt to expound them. To me, they have\n",
        "presented little but Horror --to many they will seem less terrible than\n",
        "baroques. Hereafter, perhaps, some intellect may be found which will reduce\n",
        "my phantasm to the common-place --some intellect more calm, more logical,\n",
        "and far less excitable than my own, which will perceive, in the\n",
        "circumstances I detail with awe, nothing more than an ordinary succession of\n",
        "very natural causes and effects.\n",
        "   From my infancy I was noted for the docility and humanity of my\n",
        "disposition. My tenderness of heart was even so conspicuous as to make me\n",
        "the jest of my companions. I was especially fond of animals, and was\n",
        "indulged by my parents with a great variety of pets. With these I spent most\n",
        "of my time, and never was so happy as when feeding and caressing them. This\n",
        "peculiar of character grew with my growth, and in my manhood, I derived from\n",
        "it one of my principal sources of pleasure. To those who have cherished an\n",
        "affection for a faithful and sagacious dog, I need hardly be at the trouble\n",
        "of explaining the nature or the intensity of the gratification thus\n",
        "derivable. There is something in the unselfish and self-sacrificing love of\n",
        "a brute, which goes directly to the heart of him who has had frequent\n",
        "occasion to test the paltry friendship and gossamer fidelity of mere Man.\n",
        "   I married early, and was happy to find in my wife a disposition not\n",
        "uncongenial with my own. Observing my partiality for domestic pets, she lost\n",
        "no opportunity of procuring those of the most agreeable kind. We had birds,\n",
        "gold fish, a fine dog, rabbits, a small monkey, and a cat.\n",
        "   This latter was a remarkably large and beautiful animal, entirely black,\n",
        "and sagacious to an astonishing degree. In speaking of his intelligence, my\n",
        "wife, who at heart was not a little tinctured with superstition, made\n",
        "frequent allusion to the ancient popular notion, which regarded all black\n",
        "cats as witches in disguise. Not that she was ever serious upon this point\n",
        "--and I mention the matter at all for no better reason than that it happens,\n",
        "just now, to be remembered.\n",
        "   Pluto --this was the cat's name --was my favorite pet and playmate. I\n",
        "alone fed him, and he attended me wherever I went about the house. It was\n",
        "even with difficulty that I could prevent him from following me through the\n",
        "streets.\n",
        "   Our friendship lasted, in this manner, for several years, during which my\n",
        "general temperament and character --through the instrumentality of the Fiend\n",
        "Intemperance --had (I blush to confess it) experienced a radical alteration\n",
        "for the worse. I grew, day by day, more moody, more irritable, more\n",
        "regardless of the feelings of others. I suffered myself to use intemperate\n",
        "language to my At length, I even offered her personal violence. My pets, of\n",
        "course, were made to feel the change in my disposition. I not only\n",
        "neglected, but ill-used them. For Pluto, however, I still retained\n",
        "sufficient regard to restrain me from maltreating him, as I made no scruple\n",
        "of maltreating the rabbits, the monkey, or even the dog, when by accident,\n",
        "or through affection, they came in my way. But my disease grew upon me --for\n",
        "what disease is like Alcohol! --and at length even Pluto, who was now\n",
        "becoming old, and consequently somewhat peevish --even Pluto began to\n",
        "experience the effects of my ill temper.\n",
        "   One night, returning home, much intoxicated, from one of my haunts about\n",
        "town, I fancied that the cat avoided my presence. I seized him; when, in his\n",
        "fright at my violence, he inflicted a slight wound upon my hand with his\n",
        "teeth. The fury of a demon instantly possessed me. I knew myself no longer.\n",
        "My original soul seemed, at once, to take its flight from my body; and a\n",
        "more than fiendish malevolence, gin-nurtured, thrilled every fibre of my\n",
        "frame. I took from my waistcoat-pocket a pen-knife, opened it, grasped the\n",
        "poor beast by the throat, and deliberately cut one of its eyes from the\n",
        "socket! I blush, I burn, I shudder, while I pen the damnable atrocity.\n",
        "   When reason returned with the morning --when I had slept off the fumes of\n",
        "the night's debauch --I experienced a sentiment half of horror, half of\n",
        "remorse, for the crime of which I had been guilty; but it was, at best, a\n",
        "feeble and equivocal feeling, and the soul remained untouched. I again\n",
        "plunged into excess, and soon drowned in wine all memory of the deed.\n",
        "   In the meantime the cat slowly recovered. The socket of the lost eye\n",
        "presented, it is true, a frightful appearance, but he no longer appeared to\n",
        "suffer any pain. He went about the house as usual, but, as might be\n",
        "expected, fled in extreme terror at my approach. I had so much of my old\n",
        "heart left, as to be at first grieved by this evident dislike on the part of\n",
        "a creature which had once so loved me. But this feeling soon gave place to\n",
        "irritation. And then came, as if to my final and irrevocable overthrow, the\n",
        "spirit of PERVERSENESS. Of this spirit philosophy takes no account. Yet I am\n",
        "not more sure that my soul lives, than I am that perverseness is one of the\n",
        "primitive impulses of the human heart --one of the indivisible primary\n",
        "faculties, or sentiments, which give direction to the character of Man. Who\n",
        "has not, a hundred times, found himself committing a vile or a silly action,\n",
        "for no other reason than because he knows he should not? Have we not a\n",
        "perpetual inclination, in the teeth of our best judgment, to violate that\n",
        "which is Law, merely because we understand it to be such? This spirit of\n",
        "perverseness, I say, came to my final overthrow. It was this unfathomable\n",
        "longing of the soul to vex itself --to offer violence to its own nature --to\n",
        "do wrong for the wrong's sake only --that urged me to continue and finally\n",
        "to consummate the injury I had inflicted upon the unoffending brute. One\n",
        "morning, in cool blood, I slipped a noose about its neck and hung it to the\n",
        "limb of a tree; --hung it with the tears streaming from my eyes, and with\n",
        "the bitterest remorse at my heart; --hung it because I knew that it had\n",
        "loved me, and because I felt it had given me no reason of offence; --hung it\n",
        "because I knew that in so doing I was committing a sin --a deadly sin that\n",
        "would so jeopardize my immortal soul as to place it --if such a thing were\n",
        "possible --even beyond the reach of the infinite mercy of the Most Merciful\n",
        "and Most Terrible God.\n",
        "   On the night of the day on which this cruel deed was done, I was aroused\n",
        "from sleep by the cry of fire. The curtains of my bed were in flames. The\n",
        "whole house was blazing. It was with great difficulty that my wife, a\n",
        "servant, and myself, made our escape from the conflagration. The destruction\n",
        "was complete. My entire worldly wealth was swallowed up, and I resigned\n",
        "myself thenceforward to despair.\n",
        "   I am above the weakness of seeking to establish a sequence of cause and\n",
        "effect, between the disaster and the atrocity. But I am detailing a chain of\n",
        "facts --and wish not to leave even a possible link imperfect. On the day\n",
        "succeeding the fire, I visited the ruins. The walls, with one exception, had\n",
        "fallen in. This exception was found in a compartment wall, not very thick,\n",
        "which stood about the middle of the house, and against which had rested the\n",
        "head of my bed. The plastering had here, in great measure, resisted the\n",
        "action of the fire --a fact which I attributed to its having been recently\n",
        "spread. About this wall a dense crowd were collected, and many persons\n",
        "seemed to be examining a particular portion of it with every minute and\n",
        "eager attention. The words \"strange!\" \"singular!\" and other similar\n",
        "expressions, excited my curiosity. I approached and saw, as if graven in bas\n",
        "relief upon the white surface, the figure of a gigantic cat. The impression\n",
        "was given with an accuracy truly marvellous. There was a rope about the\n",
        "animal's neck.\n",
        "   When I first beheld this apparition --for I could scarcely regard it as\n",
        "less --my wonder and my terror were extreme. But at length reflection came\n",
        "to my aid. The cat, I remembered, had been hung in a garden adjacent to the\n",
        "house. Upon the alarm of fire, this garden had been immediately filled by\n",
        "the crowd --by some one of whom the animal must have been cut from the tree\n",
        "and thrown, through an open window, into my chamber. This had probably been\n",
        "done with the view of arousing me from sleep. The falling of other walls had\n",
        "compressed the victim of my cruelty into the substance of the freshly-spread\n",
        "plaster; the lime of which, had then with the flames, and the ammonia from\n",
        "the carcass, accomplished the portraiture as I saw it.\n",
        "   Although I thus readily accounted to my reason, if not altogether to my\n",
        "conscience, for the startling fact 'just detailed, it did not the less fall\n",
        "to make a deep impression upon my fancy. For months I could not rid myself\n",
        "of the phantasm of the cat; and, during this period, there came back into my\n",
        "spirit a half-sentiment that seemed, but was not, remorse. I went so far as\n",
        "to regret the loss of the animal, and to look about me, among the vile\n",
        "haunts which I now habitually frequented, for another pet of the same\n",
        "species, and of somewhat similar appearance, with which to supply its place.\n",
        "\n",
        "   One night as I sat, half stupefied, in a den of more than infamy, my\n",
        "attention was suddenly drawn to some black object, reposing upon the head of\n",
        "one of the immense hogsheads of Gin, or of Rum, which constituted the chief\n",
        "furniture of the apartment. I had been looking steadily at the top of this\n",
        "hogshead for some minutes, and what now caused me surprise was the fact that\n",
        "I had not sooner perceived the object thereupon. I approached it, and\n",
        "touched it with my hand. It was a black cat --a very large one --fully as\n",
        "large as Pluto, and closely resembling him in every respect but one. Pluto\n",
        "had not a white hair upon any portion of his body; but this cat had a large,\n",
        "although indefinite splotch of white, covering nearly the whole region of\n",
        "the breast.\n",
        "   Upon my touching him, he immediately arose, purred loudly, rubbed against\n",
        "my hand, and appeared delighted with my notice. This, then, was the very\n",
        "creature of which I was in search. I at once offered to purchase it of the\n",
        "landlord; but this person made no claim to it --knew nothing of it --had\n",
        "never seen it before.\n",
        "   I continued my caresses, and, when I prepared to go home, the animal\n",
        "evinced a disposition to accompany me. I permitted it to do so; occasionally\n",
        "stooping and patting it as I proceeded. When it reached the house it\n",
        "domesticated itself at once, and became immediately a great favorite with my\n",
        "wife.\n",
        "   For my own part, I soon found a dislike to it arising within me. This was\n",
        "just the reverse of what I had anticipated; but I know not how or why it was\n",
        "--its evident fondness for myself rather disgusted and annoyed. By slow\n",
        "degrees, these feelings of disgust and annoyance rose into the bitterness of\n",
        "hatred. I avoided the creature; a certain sense of shame, and the\n",
        "remembrance of my former deed of cruelty, preventing me from physically\n",
        "abusing it. I did not, for some weeks, strike, or otherwise violently ill\n",
        "use it; but gradually --very gradually --I came to look upon it with\n",
        "unutterable loathing, and to flee silently from its odious presence, as from\n",
        "the breath of a pestilence.\n",
        "   What added, no doubt, to my hatred of the beast, was the discovery, on\n",
        "the morning after I brought it home, that, like Pluto, it also had been\n",
        "deprived of one of its eyes. This circumstance, however, only endeared it to\n",
        "my wife, who, as I have already said, possessed, in a high degree, that\n",
        "humanity of feeling which had once been my distinguishing trait, and the\n",
        "source of many of my simplest and purest pleasures.\n",
        "   With my aversion to this cat, however, its partiality for myself seemed\n",
        "to increase. It followed my footsteps with a pertinacity which it would be\n",
        "difficult to make the reader comprehend. Whenever I sat, it would crouch\n",
        "beneath my chair, or spring upon my knees, covering me with its loathsome\n",
        "caresses. If I arose to walk it would get between my feet and thus nearly\n",
        "throw me down, or, fastening its long and sharp claws in my dress, clamber,\n",
        "in this manner, to my breast. At such times, although I longed to destroy it\n",
        "with a blow, I was yet withheld from so doing, partly it at by a memory of\n",
        "my former crime, but chiefly --let me confess it at once --by absolute dread\n",
        "of the beast.\n",
        "   This dread was not exactly a dread of physical evil-and yet I should be\n",
        "at a loss how otherwise to define it. I am almost ashamed to own --yes, even\n",
        "in this felon's cell, I am almost ashamed to own --that the terror and\n",
        "horror with which the animal inspired me, had been heightened by one of the\n",
        "merest chimaeras it would be possible to conceive. My wife had called my\n",
        "attention, more than once, to the character of the mark of white hair, of\n",
        "which I have spoken, and which constituted the sole visible difference\n",
        "between the strange beast and the one I had y si destroyed. The reader will\n",
        "remember that this mark, although large, had been originally very\n",
        "indefinite; but, by slow degrees --degrees nearly imperceptible, and which\n",
        "for a long time my Reason struggled to reject as fanciful --it had, at\n",
        "length, assumed a rigorous distinctness of outline. It was now the\n",
        "representation of an object that I shudder to name --and for this, above\n",
        "all, I loathed, and dreaded, and would have rid myself of the monster had I\n",
        "dared --it was now, I say, the image of a hideous --of a ghastly thing --of\n",
        "the GALLOWS! --oh, mournful and terrible engine of Horror and of Crime --of\n",
        "Agony and of Death!\n",
        "   And now was I indeed wretched beyond the wretchedness of mere Humanity.\n",
        "And a brute beast --whose fellow I had contemptuously destroyed --a brute\n",
        "beast to work out for me --for me a man, fashioned in the image of the High\n",
        "God --so much of insufferable wo! Alas! neither by day nor by night knew I\n",
        "the blessing of Rest any more! During the former the creature left me no\n",
        "moment alone; and, in the latter, I started, hourly, from dreams of\n",
        "unutterable fear, to find the hot breath of the thing upon my face, and its\n",
        "vast weight --an incarnate Night-Mare that I had no power to shake off\n",
        "--incumbent eternally upon my heart!\n",
        "   Beneath the pressure of torments such as these, the feeble remnant of the\n",
        "good within me succumbed. Evil thoughts became my sole intimates --the\n",
        "darkest and most evil of thoughts. The moodiness of my usual temper\n",
        "increased to hatred of all things and of all mankind; while, from the\n",
        "sudden, frequent, and ungovernable outbursts of a fury to which I now\n",
        "blindly abandoned myself, my uncomplaining wife, alas! was the most usual\n",
        "and the most patient of sufferers.\n",
        "   One day she accompanied me, upon some household errand, into the cellar\n",
        "of the old building which our poverty compelled us to inhabit. The cat\n",
        "followed me down the steep stairs, and, nearly throwing me headlong,\n",
        "exasperated me to madness. Uplifting an axe, and forgetting, in my wrath,\n",
        "the childish dread which had hitherto stayed my hand, I aimed a blow at the\n",
        "animal which, of course, would have proved instantly fatal had it descended\n",
        "as I wished. But this blow was arrested by the hand of my wife. Goaded, by\n",
        "the interference, into a rage more than demoniacal, I withdrew my arm from\n",
        "her grasp and buried the axe in her brain. She fell dead upon the spot,\n",
        "without a groan.\n",
        "   This hideous murder accomplished, I set myself forthwith, and with entire\n",
        "deliberation, to the task of concealing the body. I knew that I could not\n",
        "remove it from the house, either by day or by night, without the risk of\n",
        "being observed by the neighbors. Many projects entered my mind. At one\n",
        "period I thought of cutting the corpse into minute fragments, and destroying\n",
        "them by fire. At another, I resolved to dig a grave for it in the floor of\n",
        "the cellar. Again, I deliberated about casting it in the well in the yard\n",
        "--about packing it in a box, as if merchandize, with the usual arrangements,\n",
        "and so getting a porter to take it from the house. Finally I hit upon what I\n",
        "considered a far better expedient than either of these. I determined to wall\n",
        "it up in the cellar --as the monks of the middle ages are recorded to have\n",
        "walled up their victims.\n",
        "   For a purpose such as this the cellar was well adapted. Its walls were\n",
        "loosely constructed, and had lately been plastered throughout with a rough\n",
        "plaster, which the dampness of the atmosphere had prevented from hardening.\n",
        "Moreover, in one of the walls was a projection, caused by a false chimney,\n",
        "or fireplace, that had been filled up, and made to resemble the rest of the\n",
        "cellar. I made no doubt that I could readily displace the at this point,\n",
        "insert the corpse, and wall the whole up as before, so that no eye could\n",
        "detect anything suspicious.\n",
        "   And in this calculation I was not deceived. By means of a crow-bar I\n",
        "easily dislodged the bricks, and, having carefully deposited the body\n",
        "against the inner wall, I propped it in that position, while, with little\n",
        "trouble, I re-laid the whole structure as it originally stood. Having\n",
        "procured mortar, sand, and hair, with every possible precaution, I prepared\n",
        "a plaster could not every poss be distinguished from the old, and with this\n",
        "I very carefully went over the new brick-work. When I had finished, I felt\n",
        "satisfied that all was right. The wall did not present the slightest\n",
        "appearance of having been disturbed. The rubbish on the floor was picked up\n",
        "with the minutest care. I looked around triumphantly, and said to myself\n",
        "--\"Here at least, then, my labor has not been in vain.\"\n",
        "   My next step was to look for the beast which had been the cause of so\n",
        "much wretchedness; for I had, at length, firmly resolved to put it to death.\n",
        "Had I been able to meet with it, at the moment, there could have been no\n",
        "doubt of its fate; but it appeared that the crafty animal had been alarmed\n",
        "at the violence of my previous anger, and forebore to present itself in my\n",
        "present mood. It is impossible to describe, or to imagine, the deep, the\n",
        "blissful sense of relief which the absence of the detested creature\n",
        "occasioned in my bosom. It did not make its appearance during the night\n",
        "--and thus for one night at least, since its introduction into the house, I\n",
        "soundly and tranquilly slept; aye, slept even with the burden of murder upon\n",
        "my soul!\n",
        "   The second and the third day passed, and still my tormentor came not.\n",
        "Once again I breathed as a free-man. The monster, in terror, had fled the\n",
        "premises forever! I should behold it no more! My happiness was supreme! The\n",
        "guilt of my dark deed disturbed me but little. Some few inquiries had been\n",
        "made, but these had been readily answered. Even a search had been instituted\n",
        "--but of course nothing was to be discovered. I looked upon my future\n",
        "felicity as secured.\n",
        "   Upon the fourth day of the assassination, a party of the police came,\n",
        "very unexpectedly, into the house, and proceeded again to make rigorous\n",
        "investigation of the premises. Secure, however, in the inscrutability of my\n",
        "place of concealment, I felt no embarrassment whatever. The officers bade me\n",
        "accompany them in their search. They left no nook or corner unexplored. At\n",
        "length, for the third or fourth time, they descended into the cellar. I\n",
        "quivered not in a muscle. My heart beat calmly as that of one who slumbers\n",
        "in innocence. I walked the cellar from end to end. I folded my arms upon my\n",
        "bosom, and roamed easily to and fro. The police were thoroughly satisfied\n",
        "and prepared to depart. The glee at my heart was too strong to be\n",
        "restrained. I burned to say if but one word, by way of triumph, and to\n",
        "render doubly sure their assurance of my guiltlessness.\n",
        "   \"Gentlemen,\" I said at last, as the party ascended the steps, \"I delight\n",
        "to have allayed your suspicions. I wish you all health, and a little more\n",
        "courtesy. By the bye, gentlemen, this --this is a very well constructed\n",
        "house.\" (In the rabid desire to say something easily, I scarcely knew what I\n",
        "uttered at all.) --\"I may say an excellently well constructed house. These\n",
        "walls --are you going, gentlemen? --these walls are solidly put together\";\n",
        "and here, through the mere phrenzy of bravado, I rapped heavily, with a cane\n",
        "which I held in my hand, upon that very portion of the brick-work behind\n",
        "which stood the corpse of the wife of my bosom.\n",
        "   But may God shield and deliver me from the fangs of the Arch-Fiend! No\n",
        "sooner had the reverberation of my blows sunk into silence than I was\n",
        "answered by a voice from within the tomb! --by a cry, at first muffled and\n",
        "broken, like the sobbing of a child, and then quickly swelling into one\n",
        "long, loud, and continuous scream, utterly anomalous and inhuman --a howl\n",
        "--a wailing shriek, half of horror and half of triumph, such as might have\n",
        "arisen only out of hell, conjointly from the throats of the damned in their\n",
        "agony and of the demons that exult in the damnation.\n",
        "   Of my own thoughts it is folly to speak. Swooning, I staggered to the\n",
        "opposite wall. For one instant the party upon the stairs remained\n",
        "motionless, through extremity of terror and of awe. In the next, a dozen\n",
        "stout arms were tolling at the wall. It fell bodily. The corpse, already\n",
        "greatly decayed and clotted with gore, stood erect before the eyes of the\n",
        "spectators. Upon its head, with red extended mouth and solitary eye of fire,\n",
        "sat the hideous beast whose craft had seduced me into murder, and whose\n",
        "informing voice had consigned me to the hangman. I had walled the monster up\n",
        "within the tomb!\n",
        "\"\"\""
      ]
    },
    {
      "cell_type": "code",
      "execution_count": 25,
      "metadata": {
        "id": "de1jRmNP7KmO"
      },
      "outputs": [],
      "source": []
    }
  ],
  "metadata": {
    "kernelspec": {
      "display_name": "Python 3 (ipykernel)",
      "language": "python",
      "name": "python3"
    },
    "language_info": {
      "codemirror_mode": {
        "name": "ipython",
        "version": 3
      },
      "file_extension": ".py",
      "mimetype": "text/x-python",
      "name": "python",
      "nbconvert_exporter": "python",
      "pygments_lexer": "ipython3",
      "version": "3.9.7"
    },
    "colab": {
      "provenance": []
    }
  },
  "nbformat": 4,
  "nbformat_minor": 0
}